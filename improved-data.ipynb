{
 "cells": [
  {
   "cell_type": "code",
   "execution_count": 188,
   "metadata": {},
   "outputs": [],
   "source": [
    "import tensorflow as tf\n",
    "import numpy as np\n",
    "import matplotlib.pyplot as plt\n",
    "import pandas as pd"
   ]
  },
  {
   "cell_type": "code",
   "execution_count": 189,
   "metadata": {},
   "outputs": [],
   "source": [
    "# Load the data\n",
    "data = pd.read_csv('generated_data.csv')"
   ]
  },
  {
   "cell_type": "code",
   "execution_count": 190,
   "metadata": {},
   "outputs": [
    {
     "data": {
      "text/plain": [
       "<Axes: xlabel='Rating'>"
      ]
     },
     "execution_count": 190,
     "metadata": {},
     "output_type": "execute_result"
    },
    {
     "data": {
      "image/png": "[encoded data removed]",
      "text/plain": [
       "<Figure size 640x480 with 1 Axes>"
      ]
     },
     "metadata": {},
     "output_type": "display_data"
    }
   ],
   "source": [
    "data['Rating'].value_counts().plot(kind='bar')"
   ]
  },
  {
   "cell_type": "code",
   "execution_count": 191,
   "metadata": {},
   "outputs": [],
   "source": [
    "# split data into patients data doctors data and ratings\n",
    "\n",
    "patients = data.columns[1:8]\n",
    "data_patients = data[patients] # patients data\n",
    "doctors = data.columns[8:15]\n",
    "data_doctors = data[doctors] # doctors data\n",
    "ratings = data.columns[15:]\n",
    "data_ratings = data[ratings] # ratings"
   ]
  },
  {
   "cell_type": "code",
   "execution_count": 192,
   "metadata": {},
   "outputs": [
    {
     "data": {
      "text/html": [
       "<div>\n",
       "<style scoped>\n",
       "    .dataframe tbody tr th:only-of-type {\n",
       "        vertical-align: middle;\n",
       "    }\n",
       "\n",
       "    .dataframe tbody tr th {\n",
       "        vertical-align: top;\n",
       "    }\n",
       "\n",
       "    .dataframe thead th {\n",
       "        text-align: right;\n",
       "    }\n",
       "</style>\n",
       "<table border=\"1\" class=\"dataframe\">\n",
       "  <thead>\n",
       "    <tr style=\"text-align: right;\">\n",
       "      <th></th>\n",
       "      <th>Patient ID</th>\n",
       "      <th>Patient Age</th>\n",
       "      <th>Patient Gender</th>\n",
       "      <th>Patient Health Condition</th>\n",
       "      <th>Patient Location</th>\n",
       "      <th>Previous Doctor Type</th>\n",
       "      <th>Last Appointment (Days)</th>\n",
       "    </tr>\n",
       "  </thead>\n",
       "  <tbody>\n",
       "    <tr>\n",
       "      <th>count</th>\n",
       "      <td>5000.000000</td>\n",
       "      <td>5000.000000</td>\n",
       "      <td>5000.000000</td>\n",
       "      <td>5000.000000</td>\n",
       "      <td>5000.000000</td>\n",
       "      <td>5000.00000</td>\n",
       "      <td>5000.00000</td>\n",
       "    </tr>\n",
       "    <tr>\n",
       "      <th>mean</th>\n",
       "      <td>500.500000</td>\n",
       "      <td>39.246000</td>\n",
       "      <td>0.468000</td>\n",
       "      <td>49.963000</td>\n",
       "      <td>50.104000</td>\n",
       "      <td>50.42700</td>\n",
       "      <td>154.58100</td>\n",
       "    </tr>\n",
       "    <tr>\n",
       "      <th>std</th>\n",
       "      <td>288.703862</td>\n",
       "      <td>23.130683</td>\n",
       "      <td>0.499025</td>\n",
       "      <td>29.005308</td>\n",
       "      <td>28.849812</td>\n",
       "      <td>29.22635</td>\n",
       "      <td>87.24094</td>\n",
       "    </tr>\n",
       "    <tr>\n",
       "      <th>min</th>\n",
       "      <td>1.000000</td>\n",
       "      <td>0.000000</td>\n",
       "      <td>0.000000</td>\n",
       "      <td>0.000000</td>\n",
       "      <td>0.000000</td>\n",
       "      <td>0.00000</td>\n",
       "      <td>1.00000</td>\n",
       "    </tr>\n",
       "    <tr>\n",
       "      <th>25%</th>\n",
       "      <td>250.750000</td>\n",
       "      <td>19.000000</td>\n",
       "      <td>0.000000</td>\n",
       "      <td>25.000000</td>\n",
       "      <td>25.000000</td>\n",
       "      <td>25.75000</td>\n",
       "      <td>82.00000</td>\n",
       "    </tr>\n",
       "    <tr>\n",
       "      <th>50%</th>\n",
       "      <td>500.500000</td>\n",
       "      <td>40.000000</td>\n",
       "      <td>0.000000</td>\n",
       "      <td>50.000000</td>\n",
       "      <td>50.000000</td>\n",
       "      <td>50.50000</td>\n",
       "      <td>161.00000</td>\n",
       "    </tr>\n",
       "    <tr>\n",
       "      <th>75%</th>\n",
       "      <td>750.250000</td>\n",
       "      <td>59.000000</td>\n",
       "      <td>1.000000</td>\n",
       "      <td>76.000000</td>\n",
       "      <td>75.000000</td>\n",
       "      <td>76.00000</td>\n",
       "      <td>229.00000</td>\n",
       "    </tr>\n",
       "    <tr>\n",
       "      <th>max</th>\n",
       "      <td>1000.000000</td>\n",
       "      <td>80.000000</td>\n",
       "      <td>1.000000</td>\n",
       "      <td>100.000000</td>\n",
       "      <td>100.000000</td>\n",
       "      <td>100.00000</td>\n",
       "      <td>300.00000</td>\n",
       "    </tr>\n",
       "  </tbody>\n",
       "</table>\n",
       "</div>"
      ],
      "text/plain": [
       "        Patient ID  Patient Age  Patient Gender  Patient Health Condition   \n",
       "count  5000.000000  5000.000000     5000.000000               5000.000000  \\\n",
       "mean    500.500000    39.246000        0.468000                 49.963000   \n",
       "std     288.703862    23.130683        0.499025                 29.005308   \n",
       "min       1.000000     0.000000        0.000000                  0.000000   \n",
       "25%     250.750000    19.000000        0.000000                 25.000000   \n",
       "50%     500.500000    40.000000        0.000000                 50.000000   \n",
       "75%     750.250000    59.000000        1.000000                 76.000000   \n",
       "max    1000.000000    80.000000        1.000000                100.000000   \n",
       "\n",
       "       Patient Location  Previous Doctor Type  Last Appointment (Days)  \n",
       "count       5000.000000            5000.00000               5000.00000  \n",
       "mean          50.104000              50.42700                154.58100  \n",
       "std           28.849812              29.22635                 87.24094  \n",
       "min            0.000000               0.00000                  1.00000  \n",
       "25%           25.000000              25.75000                 82.00000  \n",
       "50%           50.000000              50.50000                161.00000  \n",
       "75%           75.000000              76.00000                229.00000  \n",
       "max          100.000000             100.00000                300.00000  "
      ]
     },
     "execution_count": 192,
     "metadata": {},
     "output_type": "execute_result"
    }
   ],
   "source": [
    "data_patients.describe()"
   ]
  },
  {
   "cell_type": "code",
   "execution_count": 193,
   "metadata": {},
   "outputs": [
    {
     "data": {
      "text/html": [
       "<div>\n",
       "<style scoped>\n",
       "    .dataframe tbody tr th:only-of-type {\n",
       "        vertical-align: middle;\n",
       "    }\n",
       "\n",
       "    .dataframe tbody tr th {\n",
       "        vertical-align: top;\n",
       "    }\n",
       "\n",
       "    .dataframe thead th {\n",
       "        text-align: right;\n",
       "    }\n",
       "</style>\n",
       "<table border=\"1\" class=\"dataframe\">\n",
       "  <thead>\n",
       "    <tr style=\"text-align: right;\">\n",
       "      <th></th>\n",
       "      <th>Doctor ID</th>\n",
       "      <th>Doctor Age</th>\n",
       "      <th>Doctor Location</th>\n",
       "      <th>Doctor Type</th>\n",
       "      <th>Experience (Years)</th>\n",
       "      <th>Patients in Lifetime</th>\n",
       "      <th>Patients in Queue</th>\n",
       "    </tr>\n",
       "  </thead>\n",
       "  <tbody>\n",
       "    <tr>\n",
       "      <th>count</th>\n",
       "      <td>5000.000000</td>\n",
       "      <td>5000.000000</td>\n",
       "      <td>5000.000000</td>\n",
       "      <td>5000.000000</td>\n",
       "      <td>5000.000000</td>\n",
       "      <td>5000.000000</td>\n",
       "      <td>5000.000000</td>\n",
       "    </tr>\n",
       "    <tr>\n",
       "      <th>mean</th>\n",
       "      <td>2498.654400</td>\n",
       "      <td>71.246000</td>\n",
       "      <td>49.663600</td>\n",
       "      <td>50.320400</td>\n",
       "      <td>18.025305</td>\n",
       "      <td>1500.137885</td>\n",
       "      <td>29.982003</td>\n",
       "    </tr>\n",
       "    <tr>\n",
       "      <th>std</th>\n",
       "      <td>290.606507</td>\n",
       "      <td>32.359402</td>\n",
       "      <td>35.219184</td>\n",
       "      <td>29.200436</td>\n",
       "      <td>9.141134</td>\n",
       "      <td>710.360141</td>\n",
       "      <td>14.192166</td>\n",
       "    </tr>\n",
       "    <tr>\n",
       "      <th>min</th>\n",
       "      <td>2000.000000</td>\n",
       "      <td>0.000000</td>\n",
       "      <td>-45.000000</td>\n",
       "      <td>0.000000</td>\n",
       "      <td>0.011898</td>\n",
       "      <td>400.049858</td>\n",
       "      <td>8.011894</td>\n",
       "    </tr>\n",
       "    <tr>\n",
       "      <th>25%</th>\n",
       "      <td>2245.000000</td>\n",
       "      <td>48.000000</td>\n",
       "      <td>23.000000</td>\n",
       "      <td>25.000000</td>\n",
       "      <td>10.549263</td>\n",
       "      <td>949.375426</td>\n",
       "      <td>18.933282</td>\n",
       "    </tr>\n",
       "    <tr>\n",
       "      <th>50%</th>\n",
       "      <td>2496.000000</td>\n",
       "      <td>71.000000</td>\n",
       "      <td>49.000000</td>\n",
       "      <td>50.000000</td>\n",
       "      <td>18.089571</td>\n",
       "      <td>1504.389334</td>\n",
       "      <td>29.951434</td>\n",
       "    </tr>\n",
       "    <tr>\n",
       "      <th>75%</th>\n",
       "      <td>2755.250000</td>\n",
       "      <td>94.000000</td>\n",
       "      <td>76.000000</td>\n",
       "      <td>76.000000</td>\n",
       "      <td>25.482056</td>\n",
       "      <td>2049.511207</td>\n",
       "      <td>40.985482</td>\n",
       "    </tr>\n",
       "    <tr>\n",
       "      <th>max</th>\n",
       "      <td>2999.000000</td>\n",
       "      <td>144.000000</td>\n",
       "      <td>150.000000</td>\n",
       "      <td>100.000000</td>\n",
       "      <td>35.986199</td>\n",
       "      <td>2599.769044</td>\n",
       "      <td>51.999654</td>\n",
       "    </tr>\n",
       "  </tbody>\n",
       "</table>\n",
       "</div>"
      ],
      "text/plain": [
       "         Doctor ID   Doctor Age  Doctor Location  Doctor Type   \n",
       "count  5000.000000  5000.000000      5000.000000  5000.000000  \\\n",
       "mean   2498.654400    71.246000        49.663600    50.320400   \n",
       "std     290.606507    32.359402        35.219184    29.200436   \n",
       "min    2000.000000     0.000000       -45.000000     0.000000   \n",
       "25%    2245.000000    48.000000        23.000000    25.000000   \n",
       "50%    2496.000000    71.000000        49.000000    50.000000   \n",
       "75%    2755.250000    94.000000        76.000000    76.000000   \n",
       "max    2999.000000   144.000000       150.000000   100.000000   \n",
       "\n",
       "       Experience (Years)  Patients in Lifetime  Patients in Queue  \n",
       "count         5000.000000           5000.000000        5000.000000  \n",
       "mean            18.025305           1500.137885          29.982003  \n",
       "std              9.141134            710.360141          14.192166  \n",
       "min              0.011898            400.049858           8.011894  \n",
       "25%             10.549263            949.375426          18.933282  \n",
       "50%             18.089571           1504.389334          29.951434  \n",
       "75%             25.482056           2049.511207          40.985482  \n",
       "max             35.986199           2599.769044          51.999654  "
      ]
     },
     "execution_count": 193,
     "metadata": {},
     "output_type": "execute_result"
    }
   ],
   "source": [
    "data_doctors.describe()"
   ]
  },
  {
   "cell_type": "code",
   "execution_count": 194,
   "metadata": {},
   "outputs": [
    {
     "data": {
      "text/html": [
       "<div>\n",
       "<style scoped>\n",
       "    .dataframe tbody tr th:only-of-type {\n",
       "        vertical-align: middle;\n",
       "    }\n",
       "\n",
       "    .dataframe tbody tr th {\n",
       "        vertical-align: top;\n",
       "    }\n",
       "\n",
       "    .dataframe thead th {\n",
       "        text-align: right;\n",
       "    }\n",
       "</style>\n",
       "<table border=\"1\" class=\"dataframe\">\n",
       "  <thead>\n",
       "    <tr style=\"text-align: right;\">\n",
       "      <th></th>\n",
       "      <th>Rating</th>\n",
       "    </tr>\n",
       "  </thead>\n",
       "  <tbody>\n",
       "    <tr>\n",
       "      <th>count</th>\n",
       "      <td>5000.000000</td>\n",
       "    </tr>\n",
       "    <tr>\n",
       "      <th>mean</th>\n",
       "      <td>3.000000</td>\n",
       "    </tr>\n",
       "    <tr>\n",
       "      <th>std</th>\n",
       "      <td>1.414355</td>\n",
       "    </tr>\n",
       "    <tr>\n",
       "      <th>min</th>\n",
       "      <td>1.000000</td>\n",
       "    </tr>\n",
       "    <tr>\n",
       "      <th>25%</th>\n",
       "      <td>2.000000</td>\n",
       "    </tr>\n",
       "    <tr>\n",
       "      <th>50%</th>\n",
       "      <td>3.000000</td>\n",
       "    </tr>\n",
       "    <tr>\n",
       "      <th>75%</th>\n",
       "      <td>4.000000</td>\n",
       "    </tr>\n",
       "    <tr>\n",
       "      <th>max</th>\n",
       "      <td>5.000000</td>\n",
       "    </tr>\n",
       "  </tbody>\n",
       "</table>\n",
       "</div>"
      ],
      "text/plain": [
       "            Rating\n",
       "count  5000.000000\n",
       "mean      3.000000\n",
       "std       1.414355\n",
       "min       1.000000\n",
       "25%       2.000000\n",
       "50%       3.000000\n",
       "75%       4.000000\n",
       "max       5.000000"
      ]
     },
     "execution_count": 194,
     "metadata": {},
     "output_type": "execute_result"
    }
   ],
   "source": [
    "data_ratings.describe()"
   ]
  },
  {
   "cell_type": "code",
   "execution_count": 195,
   "metadata": {},
   "outputs": [],
   "source": [
    "# create datsets from the data\n",
    "data_patients_train=data_patients.values[:4000]\n",
    "data_patients_test=data_patients.values[4000:]\n",
    "\n",
    "data_doctors_train=data_doctors.values[:4000]\n",
    "data_doctors_test=data_doctors.values[4000:]\n",
    "\n",
    "data_ratings_train=data_ratings.values[:4000]\n",
    "data_ratings_test=data_ratings.values[4000:]\n",
    "\n",
    "# patients data\n",
    "train_dataset = tf.data.Dataset.from_tensor_slices((data_patients_train, data_doctors_train))\n",
    "test_dataset = tf.data.Dataset.from_tensor_slices((data_patients_test, data_doctors_test))\n",
    "\n",
    "# ratings data\n",
    "\n",
    "train_labels = tf.data.Dataset.from_tensor_slices(data_ratings_train)\n",
    "test_labels = tf.data.Dataset.from_tensor_slices(data_ratings_test)\n",
    "\n",
    "# zip the datasets\n",
    "\n",
    "train_dataset = tf.data.Dataset.zip((train_dataset, train_labels))\n",
    "test_dataset = tf.data.Dataset.zip((test_dataset, test_labels))\n",
    "\n",
    "# shuffle the datasets\n",
    "BATCH_SIZE = 32\n",
    "SHUFFLE_BUFFER_SIZE = 100\n",
    "\n",
    "train_dataset = train_dataset.shuffle(SHUFFLE_BUFFER_SIZE).batch(BATCH_SIZE)\n",
    "test_dataset = test_dataset.batch(BATCH_SIZE)"
   ]
  },
  {
   "cell_type": "code",
   "execution_count": 196,
   "metadata": {},
   "outputs": [
    {
     "data": {
      "text/plain": [
       "<_BatchDataset element_spec=((TensorSpec(shape=(None, 7), dtype=tf.int64, name=None), TensorSpec(shape=(None, 7), dtype=tf.float64, name=None)), TensorSpec(shape=(None, 1), dtype=tf.int64, name=None))>"
      ]
     },
     "execution_count": 196,
     "metadata": {},
     "output_type": "execute_result"
    }
   ],
   "source": [
    "train_dataset"
   ]
  },
  {
   "cell_type": "code",
   "execution_count": 197,
   "metadata": {},
   "outputs": [
    {
     "data": {
      "text/plain": [
       "<_BatchDataset element_spec=((TensorSpec(shape=(None, 7), dtype=tf.int64, name=None), TensorSpec(shape=(None, 7), dtype=tf.float64, name=None)), TensorSpec(shape=(None, 1), dtype=tf.int64, name=None))>"
      ]
     },
     "execution_count": 197,
     "metadata": {},
     "output_type": "execute_result"
    }
   ],
   "source": [
    "test_dataset"
   ]
  },
  {
   "cell_type": "code",
   "execution_count": 198,
   "metadata": {},
   "outputs": [],
   "source": [
    "def create_model(hp):\n",
    "    lr=hp.Float('learning_rate',min_value=1e-6,max_value=1e-1,sampling='LOG',default=1e-3)\n",
    "    unit1=hp.Int('unit1',min_value=32,max_value=128,step=32)\n",
    "    unit2=hp.Int('unit2',min_value=32,max_value=64,step=32)\n",
    "    unit3=hp.Int('unit3',min_value=32,max_value=64,step=32)\n",
    "    unit4=hp.Int('unit4',min_value=16,max_value=32,step=32)\n",
    "    input1=tf.keras.layers.Input(shape=(7,))\n",
    "    input2=tf.keras.layers.Input(shape=(7,))\n",
    "\n",
    "    a=tf.keras.layers.Dense(unit1,activation='relu')(input1)\n",
    "    b=tf.keras.layers.Dense(unit1,activation='relu')(input2)\n",
    "\n",
    "    b=tf.keras.layers.Dense(unit2,activation='relu')(b)\n",
    "    a=tf.keras.layers.Dense(unit2,activation='relu')(a)\n",
    "\n",
    "    a=tf.keras.layers.Dense(unit3,activation='relu')(a)\n",
    "    b=tf.keras.layers.Dense(unit3,activation='relu')(b)\n",
    "\n",
    "    c=tf.keras.layers.add([a,b])\n",
    "\n",
    "    c=tf.keras.layers.Dense(unit4,activation='relu')(c)\n",
    "    c=tf.keras.layers.Dense(11,activation='softmax')(c)\n",
    "\n",
    "    model=tf.keras.models.Model(inputs=[input1,input2],outputs=c)\n",
    "\n",
    "    model.compile(optimizer=tf.keras.optimizers.Adam(learning_rate=1e-3),loss='sparse_categorical_crossentropy',metrics=['accuracy'])\n",
    "\n",
    "    return model"
   ]
  },
  {
   "cell_type": "code",
   "execution_count": 199,
   "metadata": {},
   "outputs": [],
   "source": [
    "# tune the hyperparameters\n",
    "\n",
    "import keras_tuner as kt\n",
    "\n",
    "tuner=kt.Hyperband(create_model,objective='val_accuracy',max_epochs=10,overwrite=True,project_name='doctor_rating')"
   ]
  },
  {
   "cell_type": "code",
   "execution_count": 200,
   "metadata": {},
   "outputs": [
    {
     "name": "stdout",
     "output_type": "stream",
     "text": [
      "Trial 30 Complete [00h 00m 03s]\n",
      "val_accuracy: 0.9350000023841858\n",
      "\n",
      "Best val_accuracy So Far: 0.9350000023841858\n",
      "Total elapsed time: 00h 01m 05s\n"
     ]
    }
   ],
   "source": [
    "tuner.search(train_dataset,epochs=10,validation_data=test_dataset)"
   ]
  },
  {
   "cell_type": "code",
   "execution_count": 201,
   "metadata": {},
   "outputs": [],
   "source": [
    "model = tuner.get_best_models()[0]"
   ]
  },
  {
   "cell_type": "code",
   "execution_count": 202,
   "metadata": {},
   "outputs": [
    {
     "name": "stdout",
     "output_type": "stream",
     "text": [
      "You must install pydot (`pip install pydot`) and install graphviz (see instructions at https://graphviz.gitlab.io/download/) for plot_model to work.\n"
     ]
    }
   ],
   "source": [
    "# plot the model\n",
    "\n",
    "tf.keras.utils.plot_model(model,show_shapes=True)"
   ]
  },
  {
   "cell_type": "code",
   "execution_count": 203,
   "metadata": {},
   "outputs": [],
   "source": [
    "# import the callbacks\n",
    "\n",
    "from tensorflow.keras.callbacks import ModelCheckpoint,EarlyStopping,ReduceLROnPlateau\n",
    "\n",
    "checkpoint=ModelCheckpoint('model.h5',monitor='loss',save_best_only=True)\n",
    "\n",
    "earlystop=EarlyStopping(monitor='loss',patience=10)\n",
    "\n",
    "reduce_lr=ReduceLROnPlateau(monitor='loss',factor=0.2,patience=1,min_lr=1e-6)\n"
   ]
  },
  {
   "cell_type": "code",
   "execution_count": 204,
   "metadata": {},
   "outputs": [
    {
     "name": "stdout",
     "output_type": "stream",
     "text": [
      "Epoch 1/10\n"
     ]
    },
    {
     "name": "stdout",
     "output_type": "stream",
     "text": [
      "125/125 [==============================] - 1s 3ms/step - loss: 0.6559 - accuracy: 0.8543 - val_loss: 0.6665 - val_accuracy: 0.8000 - lr: 0.0010\n",
      "Epoch 2/10\n",
      "125/125 [==============================] - 0s 2ms/step - loss: 0.4899 - accuracy: 0.8712 - val_loss: 0.7772 - val_accuracy: 0.7640 - lr: 0.0010\n",
      "Epoch 3/10\n",
      "125/125 [==============================] - 0s 2ms/step - loss: 0.4691 - accuracy: 0.8845 - val_loss: 0.3595 - val_accuracy: 0.8850 - lr: 0.0010\n",
      "Epoch 4/10\n",
      "125/125 [==============================] - 0s 1ms/step - loss: 0.5293 - accuracy: 0.8403 - val_loss: 0.7361 - val_accuracy: 0.8300 - lr: 0.0010\n",
      "Epoch 5/10\n",
      "125/125 [==============================] - 0s 1ms/step - loss: 0.5699 - accuracy: 0.8177 - val_loss: 0.7097 - val_accuracy: 0.8220 - lr: 2.0000e-04\n",
      "Epoch 6/10\n",
      "125/125 [==============================] - 0s 1ms/step - loss: 0.5963 - accuracy: 0.7990 - val_loss: 1.1278 - val_accuracy: 0.7120 - lr: 4.0000e-05\n",
      "Epoch 7/10\n",
      "125/125 [==============================] - 0s 1ms/step - loss: 0.5609 - accuracy: 0.7945 - val_loss: 1.5380 - val_accuracy: 0.6200 - lr: 8.0000e-06\n",
      "Epoch 8/10\n",
      "125/125 [==============================] - 0s 2ms/step - loss: 0.5080 - accuracy: 0.8052 - val_loss: 1.6344 - val_accuracy: 0.6040 - lr: 1.6000e-06\n",
      "Epoch 9/10\n",
      "125/125 [==============================] - 0s 1ms/step - loss: 0.4969 - accuracy: 0.8090 - val_loss: 1.6985 - val_accuracy: 0.5940 - lr: 1.0000e-06\n",
      "Epoch 10/10\n",
      "125/125 [==============================] - 0s 1ms/step - loss: 0.4911 - accuracy: 0.8095 - val_loss: 1.7555 - val_accuracy: 0.5890 - lr: 1.0000e-06\n"
     ]
    },
    {
     "data": {
      "text/plain": [
       "<keras.callbacks.History at 0x221860a9310>"
      ]
     },
     "execution_count": 204,
     "metadata": {},
     "output_type": "execute_result"
    }
   ],
   "source": [
    "model.fit(train_dataset,epochs=10,validation_data=test_dataset,callbacks=[checkpoint,earlystop,reduce_lr])"
   ]
  },
  {
   "cell_type": "code",
   "execution_count": 205,
   "metadata": {},
   "outputs": [
    {
     "name": "stdout",
     "output_type": "stream",
     "text": [
      "32/32 [==============================] - 0s 1ms/step\n"
     ]
    }
   ],
   "source": [
    "# test the model\n",
    "y_pred=model.predict(test_dataset)"
   ]
  },
  {
   "cell_type": "code",
   "execution_count": 206,
   "metadata": {},
   "outputs": [],
   "source": [
    "y_pred=np.array(y_pred)"
   ]
  },
  {
   "cell_type": "code",
   "execution_count": 207,
   "metadata": {},
   "outputs": [],
   "source": [
    "y_pred=np.argmax(y_pred,axis=1)"
   ]
  },
  {
   "cell_type": "code",
   "execution_count": 208,
   "metadata": {},
   "outputs": [
    {
     "data": {
      "text/plain": [
       "<matplotlib.collections.PathCollection at 0x2218609f310>"
      ]
     },
     "execution_count": 208,
     "metadata": {},
     "output_type": "execute_result"
    },
    {
     "data": {
      "image/png": "[encoded data removed]",
      "text/plain": [
       "<Figure size 640x480 with 1 Axes>"
      ]
     },
     "metadata": {},
     "output_type": "display_data"
    }
   ],
   "source": [
    "plt.scatter(range(len(y_pred)),y_pred,color='red')"
   ]
  },
  {
   "cell_type": "code",
   "execution_count": 210,
   "metadata": {},
   "outputs": [],
   "source": [
    "y_true=np.fromiter(test_labels.as_numpy_iterator(),dtype=np.int32)"
   ]
  },
  {
   "cell_type": "code",
   "execution_count": 213,
   "metadata": {},
   "outputs": [
    {
     "data": {
      "text/plain": [
       "<matplotlib.collections.PathCollection at 0x2218641d390>"
      ]
     },
     "execution_count": 213,
     "metadata": {},
     "output_type": "execute_result"
    },
    {
     "data": {
      "image/png": "[encoded data removed]",
      "text/plain": [
       "<Figure size 640x480 with 1 Axes>"
      ]
     },
     "metadata": {},
     "output_type": "display_data"
    }
   ],
   "source": [
    "plt.scatter(range(len(y_pred)),y_true,color='blue')"
   ]
  },
  {
   "cell_type": "code",
   "execution_count": 214,
   "metadata": {},
   "outputs": [
    {
     "data": {
      "text/plain": [
       "<Axes: >"
      ]
     },
     "execution_count": 214,
     "metadata": {},
     "output_type": "execute_result"
    },
    {
     "data": {
      "image/png": "[encoded data removed]",
      "text/plain": [
       "<Figure size 640x480 with 2 Axes>"
      ]
     },
     "metadata": {},
     "output_type": "display_data"
    }
   ],
   "source": [
    "# confusion matrix in heat map\n",
    "\n",
    "from sklearn.metrics import confusion_matrix\n",
    "cm=confusion_matrix(y_true,y_pred)\n",
    "\n",
    "import seaborn as sns\n",
    "sns.heatmap(cm,annot=True)"
   ]
  },
  {
   "cell_type": "code",
   "execution_count": null,
   "metadata": {},
   "outputs": [],
   "source": []
  }
 ],
 "metadata": {
  "kernelspec": {
   "display_name": "Python 3",
   "language": "python",
   "name": "python3"
  },
  "language_info": {
   "codemirror_mode": {
    "name": "ipython",
    "version": 3
   },
   "file_extension": ".py",
   "mimetype": "text/x-python",
   "name": "python",
   "nbconvert_exporter": "python",
   "pygments_lexer": "ipython3",
   "version": "3.11.3"
  }
 },
 "nbformat": 4,
 "nbformat_minor": 2
}
