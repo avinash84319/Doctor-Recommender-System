{
 "cells": [
  {
   "cell_type": "code",
   "execution_count": 53,
   "metadata": {},
   "outputs": [],
   "source": [
    "import tensorflow as tf\n",
    "import numpy as np\n",
    "import matplotlib.pyplot as plt\n",
    "import pandas as pd"
   ]
  },
  {
   "cell_type": "code",
   "execution_count": 54,
   "metadata": {},
   "outputs": [],
   "source": [
    "# Load the data\n",
    "data = pd.read_csv('generated_data.csv')"
   ]
  },
  {
   "cell_type": "code",
   "execution_count": 55,
   "metadata": {},
   "outputs": [
    {
     "data": {
      "text/html": [
       "<div>\n",
       "<style scoped>\n",
       "    .dataframe tbody tr th:only-of-type {\n",
       "        vertical-align: middle;\n",
       "    }\n",
       "\n",
       "    .dataframe tbody tr th {\n",
       "        vertical-align: top;\n",
       "    }\n",
       "\n",
       "    .dataframe thead th {\n",
       "        text-align: right;\n",
       "    }\n",
       "</style>\n",
       "<table border=\"1\" class=\"dataframe\">\n",
       "  <thead>\n",
       "    <tr style=\"text-align: right;\">\n",
       "      <th></th>\n",
       "      <th>Appointment ID</th>\n",
       "      <th>Patient ID</th>\n",
       "      <th>Patient Age</th>\n",
       "      <th>Patient Gender</th>\n",
       "      <th>Patient Health Condition</th>\n",
       "      <th>Previous Doctor Type</th>\n",
       "      <th>Last Appointment (Days)</th>\n",
       "      <th>Doctor ID</th>\n",
       "      <th>Doctor Age</th>\n",
       "      <th>Doctor Location</th>\n",
       "      <th>Doctor Type</th>\n",
       "      <th>Experience (Years)</th>\n",
       "      <th>Patients in Lifetime</th>\n",
       "      <th>Patients in Queue</th>\n",
       "      <th>Pev_Visited</th>\n",
       "      <th>Rating</th>\n",
       "    </tr>\n",
       "  </thead>\n",
       "  <tbody>\n",
       "    <tr>\n",
       "      <th>0</th>\n",
       "      <td>1</td>\n",
       "      <td>1</td>\n",
       "      <td>69</td>\n",
       "      <td>1</td>\n",
       "      <td>13</td>\n",
       "      <td>26</td>\n",
       "      <td>63</td>\n",
       "      <td>2973</td>\n",
       "      <td>133.0</td>\n",
       "      <td>82</td>\n",
       "      <td>51</td>\n",
       "      <td>6.147941</td>\n",
       "      <td>573.609438</td>\n",
       "      <td>8.012773</td>\n",
       "      <td>0</td>\n",
       "      <td>1</td>\n",
       "    </tr>\n",
       "    <tr>\n",
       "      <th>1</th>\n",
       "      <td>2</td>\n",
       "      <td>1</td>\n",
       "      <td>69</td>\n",
       "      <td>1</td>\n",
       "      <td>13</td>\n",
       "      <td>26</td>\n",
       "      <td>63</td>\n",
       "      <td>2881</td>\n",
       "      <td>117.0</td>\n",
       "      <td>62</td>\n",
       "      <td>79</td>\n",
       "      <td>8.387803</td>\n",
       "      <td>1043.044219</td>\n",
       "      <td>21.094155</td>\n",
       "      <td>0</td>\n",
       "      <td>2</td>\n",
       "    </tr>\n",
       "    <tr>\n",
       "      <th>2</th>\n",
       "      <td>3</td>\n",
       "      <td>1</td>\n",
       "      <td>69</td>\n",
       "      <td>1</td>\n",
       "      <td>13</td>\n",
       "      <td>26</td>\n",
       "      <td>63</td>\n",
       "      <td>2112</td>\n",
       "      <td>101.0</td>\n",
       "      <td>50</td>\n",
       "      <td>6</td>\n",
       "      <td>20.376136</td>\n",
       "      <td>1432.876112</td>\n",
       "      <td>30.626512</td>\n",
       "      <td>0</td>\n",
       "      <td>3</td>\n",
       "    </tr>\n",
       "    <tr>\n",
       "      <th>3</th>\n",
       "      <td>4</td>\n",
       "      <td>1</td>\n",
       "      <td>69</td>\n",
       "      <td>1</td>\n",
       "      <td>13</td>\n",
       "      <td>26</td>\n",
       "      <td>63</td>\n",
       "      <td>2551</td>\n",
       "      <td>85.0</td>\n",
       "      <td>48</td>\n",
       "      <td>26</td>\n",
       "      <td>20.355200</td>\n",
       "      <td>1954.238892</td>\n",
       "      <td>39.971591</td>\n",
       "      <td>0</td>\n",
       "      <td>4</td>\n",
       "    </tr>\n",
       "    <tr>\n",
       "      <th>4</th>\n",
       "      <td>5</td>\n",
       "      <td>1</td>\n",
       "      <td>69</td>\n",
       "      <td>1</td>\n",
       "      <td>13</td>\n",
       "      <td>26</td>\n",
       "      <td>63</td>\n",
       "      <td>2018</td>\n",
       "      <td>69.0</td>\n",
       "      <td>52</td>\n",
       "      <td>26</td>\n",
       "      <td>29.038391</td>\n",
       "      <td>2591.169702</td>\n",
       "      <td>49.801560</td>\n",
       "      <td>1</td>\n",
       "      <td>5</td>\n",
       "    </tr>\n",
       "    <tr>\n",
       "      <th>...</th>\n",
       "      <td>...</td>\n",
       "      <td>...</td>\n",
       "      <td>...</td>\n",
       "      <td>...</td>\n",
       "      <td>...</td>\n",
       "      <td>...</td>\n",
       "      <td>...</td>\n",
       "      <td>...</td>\n",
       "      <td>...</td>\n",
       "      <td>...</td>\n",
       "      <td>...</td>\n",
       "      <td>...</td>\n",
       "      <td>...</td>\n",
       "      <td>...</td>\n",
       "      <td>...</td>\n",
       "      <td>...</td>\n",
       "    </tr>\n",
       "    <tr>\n",
       "      <th>4995</th>\n",
       "      <td>4996</td>\n",
       "      <td>1000</td>\n",
       "      <td>4</td>\n",
       "      <td>0</td>\n",
       "      <td>34</td>\n",
       "      <td>71</td>\n",
       "      <td>161</td>\n",
       "      <td>2272</td>\n",
       "      <td>68.0</td>\n",
       "      <td>65</td>\n",
       "      <td>72</td>\n",
       "      <td>6.679890</td>\n",
       "      <td>400.080979</td>\n",
       "      <td>11.821118</td>\n",
       "      <td>0</td>\n",
       "      <td>1</td>\n",
       "    </tr>\n",
       "    <tr>\n",
       "      <th>4996</th>\n",
       "      <td>4997</td>\n",
       "      <td>1000</td>\n",
       "      <td>4</td>\n",
       "      <td>0</td>\n",
       "      <td>34</td>\n",
       "      <td>71</td>\n",
       "      <td>161</td>\n",
       "      <td>2306</td>\n",
       "      <td>52.0</td>\n",
       "      <td>69</td>\n",
       "      <td>64</td>\n",
       "      <td>6.075514</td>\n",
       "      <td>929.179511</td>\n",
       "      <td>21.434996</td>\n",
       "      <td>0</td>\n",
       "      <td>2</td>\n",
       "    </tr>\n",
       "    <tr>\n",
       "      <th>4997</th>\n",
       "      <td>4998</td>\n",
       "      <td>1000</td>\n",
       "      <td>4</td>\n",
       "      <td>0</td>\n",
       "      <td>34</td>\n",
       "      <td>71</td>\n",
       "      <td>161</td>\n",
       "      <td>2256</td>\n",
       "      <td>36.0</td>\n",
       "      <td>62</td>\n",
       "      <td>66</td>\n",
       "      <td>18.167675</td>\n",
       "      <td>1513.471372</td>\n",
       "      <td>31.648961</td>\n",
       "      <td>0</td>\n",
       "      <td>3</td>\n",
       "    </tr>\n",
       "    <tr>\n",
       "      <th>4998</th>\n",
       "      <td>4999</td>\n",
       "      <td>1000</td>\n",
       "      <td>4</td>\n",
       "      <td>0</td>\n",
       "      <td>34</td>\n",
       "      <td>71</td>\n",
       "      <td>161</td>\n",
       "      <td>2806</td>\n",
       "      <td>20.0</td>\n",
       "      <td>70</td>\n",
       "      <td>71</td>\n",
       "      <td>24.893950</td>\n",
       "      <td>1938.287239</td>\n",
       "      <td>39.071286</td>\n",
       "      <td>0</td>\n",
       "      <td>4</td>\n",
       "    </tr>\n",
       "    <tr>\n",
       "      <th>4999</th>\n",
       "      <td>5000</td>\n",
       "      <td>1000</td>\n",
       "      <td>4</td>\n",
       "      <td>0</td>\n",
       "      <td>34</td>\n",
       "      <td>71</td>\n",
       "      <td>161</td>\n",
       "      <td>2858</td>\n",
       "      <td>4.0</td>\n",
       "      <td>80</td>\n",
       "      <td>71</td>\n",
       "      <td>25.902087</td>\n",
       "      <td>2468.264999</td>\n",
       "      <td>51.371954</td>\n",
       "      <td>1</td>\n",
       "      <td>5</td>\n",
       "    </tr>\n",
       "  </tbody>\n",
       "</table>\n",
       "<p>5000 rows × 16 columns</p>\n",
       "</div>"
      ],
      "text/plain": [
       "      Appointment ID  Patient ID  Patient Age  Patient Gender   \n",
       "0                  1           1           69               1  \\\n",
       "1                  2           1           69               1   \n",
       "2                  3           1           69               1   \n",
       "3                  4           1           69               1   \n",
       "4                  5           1           69               1   \n",
       "...              ...         ...          ...             ...   \n",
       "4995            4996        1000            4               0   \n",
       "4996            4997        1000            4               0   \n",
       "4997            4998        1000            4               0   \n",
       "4998            4999        1000            4               0   \n",
       "4999            5000        1000            4               0   \n",
       "\n",
       "      Patient Health Condition  Previous Doctor Type  Last Appointment (Days)   \n",
       "0                           13                    26                       63  \\\n",
       "1                           13                    26                       63   \n",
       "2                           13                    26                       63   \n",
       "3                           13                    26                       63   \n",
       "4                           13                    26                       63   \n",
       "...                        ...                   ...                      ...   \n",
       "4995                        34                    71                      161   \n",
       "4996                        34                    71                      161   \n",
       "4997                        34                    71                      161   \n",
       "4998                        34                    71                      161   \n",
       "4999                        34                    71                      161   \n",
       "\n",
       "      Doctor ID  Doctor Age  Doctor Location  Doctor Type  Experience (Years)   \n",
       "0          2973       133.0               82           51            6.147941  \\\n",
       "1          2881       117.0               62           79            8.387803   \n",
       "2          2112       101.0               50            6           20.376136   \n",
       "3          2551        85.0               48           26           20.355200   \n",
       "4          2018        69.0               52           26           29.038391   \n",
       "...         ...         ...              ...          ...                 ...   \n",
       "4995       2272        68.0               65           72            6.679890   \n",
       "4996       2306        52.0               69           64            6.075514   \n",
       "4997       2256        36.0               62           66           18.167675   \n",
       "4998       2806        20.0               70           71           24.893950   \n",
       "4999       2858         4.0               80           71           25.902087   \n",
       "\n",
       "      Patients in Lifetime  Patients in Queue  Pev_Visited  Rating  \n",
       "0               573.609438           8.012773            0       1  \n",
       "1              1043.044219          21.094155            0       2  \n",
       "2              1432.876112          30.626512            0       3  \n",
       "3              1954.238892          39.971591            0       4  \n",
       "4              2591.169702          49.801560            1       5  \n",
       "...                    ...                ...          ...     ...  \n",
       "4995            400.080979          11.821118            0       1  \n",
       "4996            929.179511          21.434996            0       2  \n",
       "4997           1513.471372          31.648961            0       3  \n",
       "4998           1938.287239          39.071286            0       4  \n",
       "4999           2468.264999          51.371954            1       5  \n",
       "\n",
       "[5000 rows x 16 columns]"
      ]
     },
     "execution_count": 55,
     "metadata": {},
     "output_type": "execute_result"
    }
   ],
   "source": [
    "data"
   ]
  },
  {
   "cell_type": "code",
   "execution_count": 56,
   "metadata": {},
   "outputs": [
    {
     "data": {
      "text/plain": [
       "<Axes: xlabel='Rating'>"
      ]
     },
     "execution_count": 56,
     "metadata": {},
     "output_type": "execute_result"
    },
    {
     "data": {
      "image/png": "[encoded data removed]",
      "text/plain": [
       "<Figure size 640x480 with 1 Axes>"
      ]
     },
     "metadata": {},
     "output_type": "display_data"
    }
   ],
   "source": [
    "data['Rating'].value_counts().plot(kind='bar')"
   ]
  },
  {
   "cell_type": "code",
   "execution_count": 57,
   "metadata": {},
   "outputs": [],
   "source": [
    "# split data into patients data doctors data and ratings\n",
    "\n",
    "patients = data.columns[1:7]\n",
    "data_patients = data[patients] # patients data\n",
    "doctors = data.columns[7:15]\n",
    "data_doctors = data[doctors] # doctors data\n",
    "ratings = data.columns[15:]\n",
    "data_ratings = data[ratings] # ratings"
   ]
  },
  {
   "cell_type": "code",
   "execution_count": 58,
   "metadata": {},
   "outputs": [
    {
     "data": {
      "text/html": [
       "<div>\n",
       "<style scoped>\n",
       "    .dataframe tbody tr th:only-of-type {\n",
       "        vertical-align: middle;\n",
       "    }\n",
       "\n",
       "    .dataframe tbody tr th {\n",
       "        vertical-align: top;\n",
       "    }\n",
       "\n",
       "    .dataframe thead th {\n",
       "        text-align: right;\n",
       "    }\n",
       "</style>\n",
       "<table border=\"1\" class=\"dataframe\">\n",
       "  <thead>\n",
       "    <tr style=\"text-align: right;\">\n",
       "      <th></th>\n",
       "      <th>Patient ID</th>\n",
       "      <th>Patient Age</th>\n",
       "      <th>Patient Gender</th>\n",
       "      <th>Patient Health Condition</th>\n",
       "      <th>Previous Doctor Type</th>\n",
       "      <th>Last Appointment (Days)</th>\n",
       "    </tr>\n",
       "  </thead>\n",
       "  <tbody>\n",
       "    <tr>\n",
       "      <th>count</th>\n",
       "      <td>5000.000000</td>\n",
       "      <td>5000.00000</td>\n",
       "      <td>5000.00000</td>\n",
       "      <td>5000.00000</td>\n",
       "      <td>5000.000000</td>\n",
       "      <td>5000.000000</td>\n",
       "    </tr>\n",
       "    <tr>\n",
       "      <th>mean</th>\n",
       "      <td>500.500000</td>\n",
       "      <td>40.14200</td>\n",
       "      <td>0.52700</td>\n",
       "      <td>52.11700</td>\n",
       "      <td>50.737000</td>\n",
       "      <td>155.263000</td>\n",
       "    </tr>\n",
       "    <tr>\n",
       "      <th>std</th>\n",
       "      <td>288.703862</td>\n",
       "      <td>23.41554</td>\n",
       "      <td>0.49932</td>\n",
       "      <td>29.01044</td>\n",
       "      <td>28.719589</td>\n",
       "      <td>86.804959</td>\n",
       "    </tr>\n",
       "    <tr>\n",
       "      <th>min</th>\n",
       "      <td>1.000000</td>\n",
       "      <td>0.00000</td>\n",
       "      <td>0.00000</td>\n",
       "      <td>0.00000</td>\n",
       "      <td>0.000000</td>\n",
       "      <td>1.000000</td>\n",
       "    </tr>\n",
       "    <tr>\n",
       "      <th>25%</th>\n",
       "      <td>250.750000</td>\n",
       "      <td>21.00000</td>\n",
       "      <td>0.00000</td>\n",
       "      <td>27.00000</td>\n",
       "      <td>26.000000</td>\n",
       "      <td>80.000000</td>\n",
       "    </tr>\n",
       "    <tr>\n",
       "      <th>50%</th>\n",
       "      <td>500.500000</td>\n",
       "      <td>39.00000</td>\n",
       "      <td>1.00000</td>\n",
       "      <td>52.00000</td>\n",
       "      <td>51.000000</td>\n",
       "      <td>160.000000</td>\n",
       "    </tr>\n",
       "    <tr>\n",
       "      <th>75%</th>\n",
       "      <td>750.250000</td>\n",
       "      <td>60.00000</td>\n",
       "      <td>1.00000</td>\n",
       "      <td>77.00000</td>\n",
       "      <td>76.000000</td>\n",
       "      <td>232.000000</td>\n",
       "    </tr>\n",
       "    <tr>\n",
       "      <th>max</th>\n",
       "      <td>1000.000000</td>\n",
       "      <td>80.00000</td>\n",
       "      <td>1.00000</td>\n",
       "      <td>100.00000</td>\n",
       "      <td>100.000000</td>\n",
       "      <td>300.000000</td>\n",
       "    </tr>\n",
       "  </tbody>\n",
       "</table>\n",
       "</div>"
      ],
      "text/plain": [
       "        Patient ID  Patient Age  Patient Gender  Patient Health Condition   \n",
       "count  5000.000000   5000.00000      5000.00000                5000.00000  \\\n",
       "mean    500.500000     40.14200         0.52700                  52.11700   \n",
       "std     288.703862     23.41554         0.49932                  29.01044   \n",
       "min       1.000000      0.00000         0.00000                   0.00000   \n",
       "25%     250.750000     21.00000         0.00000                  27.00000   \n",
       "50%     500.500000     39.00000         1.00000                  52.00000   \n",
       "75%     750.250000     60.00000         1.00000                  77.00000   \n",
       "max    1000.000000     80.00000         1.00000                 100.00000   \n",
       "\n",
       "       Previous Doctor Type  Last Appointment (Days)  \n",
       "count           5000.000000              5000.000000  \n",
       "mean              50.737000               155.263000  \n",
       "std               28.719589                86.804959  \n",
       "min                0.000000                 1.000000  \n",
       "25%               26.000000                80.000000  \n",
       "50%               51.000000               160.000000  \n",
       "75%               76.000000               232.000000  \n",
       "max              100.000000               300.000000  "
      ]
     },
     "execution_count": 58,
     "metadata": {},
     "output_type": "execute_result"
    }
   ],
   "source": [
    "data_patients.describe()"
   ]
  },
  {
   "cell_type": "code",
   "execution_count": 59,
   "metadata": {},
   "outputs": [
    {
     "data": {
      "text/html": [
       "<div>\n",
       "<style scoped>\n",
       "    .dataframe tbody tr th:only-of-type {\n",
       "        vertical-align: middle;\n",
       "    }\n",
       "\n",
       "    .dataframe tbody tr th {\n",
       "        vertical-align: top;\n",
       "    }\n",
       "\n",
       "    .dataframe thead th {\n",
       "        text-align: right;\n",
       "    }\n",
       "</style>\n",
       "<table border=\"1\" class=\"dataframe\">\n",
       "  <thead>\n",
       "    <tr style=\"text-align: right;\">\n",
       "      <th></th>\n",
       "      <th>Doctor ID</th>\n",
       "      <th>Doctor Age</th>\n",
       "      <th>Doctor Location</th>\n",
       "      <th>Doctor Type</th>\n",
       "      <th>Experience (Years)</th>\n",
       "      <th>Patients in Lifetime</th>\n",
       "      <th>Patients in Queue</th>\n",
       "      <th>Pev_Visited</th>\n",
       "    </tr>\n",
       "  </thead>\n",
       "  <tbody>\n",
       "    <tr>\n",
       "      <th>count</th>\n",
       "      <td>5000.000000</td>\n",
       "      <td>5000.000000</td>\n",
       "      <td>5000.000000</td>\n",
       "      <td>5000.000000</td>\n",
       "      <td>5000.000000</td>\n",
       "      <td>5000.000000</td>\n",
       "      <td>5000.000000</td>\n",
       "      <td>5000.00000</td>\n",
       "    </tr>\n",
       "    <tr>\n",
       "      <th>mean</th>\n",
       "      <td>2501.145800</td>\n",
       "      <td>72.142000</td>\n",
       "      <td>51.455000</td>\n",
       "      <td>49.948200</td>\n",
       "      <td>17.978274</td>\n",
       "      <td>1500.099033</td>\n",
       "      <td>30.005300</td>\n",
       "      <td>0.20000</td>\n",
       "    </tr>\n",
       "    <tr>\n",
       "      <th>std</th>\n",
       "      <td>288.613467</td>\n",
       "      <td>32.563629</td>\n",
       "      <td>32.306914</td>\n",
       "      <td>29.010568</td>\n",
       "      <td>9.214297</td>\n",
       "      <td>710.132120</td>\n",
       "      <td>14.176786</td>\n",
       "      <td>0.40004</td>\n",
       "    </tr>\n",
       "    <tr>\n",
       "      <th>min</th>\n",
       "      <td>2000.000000</td>\n",
       "      <td>0.000000</td>\n",
       "      <td>-38.000000</td>\n",
       "      <td>0.000000</td>\n",
       "      <td>0.001420</td>\n",
       "      <td>400.028351</td>\n",
       "      <td>8.001542</td>\n",
       "      <td>0.00000</td>\n",
       "    </tr>\n",
       "    <tr>\n",
       "      <th>25%</th>\n",
       "      <td>2251.750000</td>\n",
       "      <td>49.000000</td>\n",
       "      <td>27.000000</td>\n",
       "      <td>25.000000</td>\n",
       "      <td>10.415207</td>\n",
       "      <td>950.982514</td>\n",
       "      <td>19.034949</td>\n",
       "      <td>0.00000</td>\n",
       "    </tr>\n",
       "    <tr>\n",
       "      <th>50%</th>\n",
       "      <td>2506.000000</td>\n",
       "      <td>72.000000</td>\n",
       "      <td>52.000000</td>\n",
       "      <td>50.000000</td>\n",
       "      <td>17.872687</td>\n",
       "      <td>1497.256062</td>\n",
       "      <td>30.087614</td>\n",
       "      <td>0.00000</td>\n",
       "    </tr>\n",
       "    <tr>\n",
       "      <th>75%</th>\n",
       "      <td>2748.250000</td>\n",
       "      <td>95.000000</td>\n",
       "      <td>76.000000</td>\n",
       "      <td>76.000000</td>\n",
       "      <td>25.640173</td>\n",
       "      <td>2049.170021</td>\n",
       "      <td>41.007077</td>\n",
       "      <td>0.00000</td>\n",
       "    </tr>\n",
       "    <tr>\n",
       "      <th>max</th>\n",
       "      <td>2999.000000</td>\n",
       "      <td>144.000000</td>\n",
       "      <td>137.000000</td>\n",
       "      <td>100.000000</td>\n",
       "      <td>35.997055</td>\n",
       "      <td>2599.716065</td>\n",
       "      <td>51.999524</td>\n",
       "      <td>1.00000</td>\n",
       "    </tr>\n",
       "  </tbody>\n",
       "</table>\n",
       "</div>"
      ],
      "text/plain": [
       "         Doctor ID   Doctor Age  Doctor Location  Doctor Type   \n",
       "count  5000.000000  5000.000000      5000.000000  5000.000000  \\\n",
       "mean   2501.145800    72.142000        51.455000    49.948200   \n",
       "std     288.613467    32.563629        32.306914    29.010568   \n",
       "min    2000.000000     0.000000       -38.000000     0.000000   \n",
       "25%    2251.750000    49.000000        27.000000    25.000000   \n",
       "50%    2506.000000    72.000000        52.000000    50.000000   \n",
       "75%    2748.250000    95.000000        76.000000    76.000000   \n",
       "max    2999.000000   144.000000       137.000000   100.000000   \n",
       "\n",
       "       Experience (Years)  Patients in Lifetime  Patients in Queue   \n",
       "count         5000.000000           5000.000000        5000.000000  \\\n",
       "mean            17.978274           1500.099033          30.005300   \n",
       "std              9.214297            710.132120          14.176786   \n",
       "min              0.001420            400.028351           8.001542   \n",
       "25%             10.415207            950.982514          19.034949   \n",
       "50%             17.872687           1497.256062          30.087614   \n",
       "75%             25.640173           2049.170021          41.007077   \n",
       "max             35.997055           2599.716065          51.999524   \n",
       "\n",
       "       Pev_Visited  \n",
       "count   5000.00000  \n",
       "mean       0.20000  \n",
       "std        0.40004  \n",
       "min        0.00000  \n",
       "25%        0.00000  \n",
       "50%        0.00000  \n",
       "75%        0.00000  \n",
       "max        1.00000  "
      ]
     },
     "execution_count": 59,
     "metadata": {},
     "output_type": "execute_result"
    }
   ],
   "source": [
    "data_doctors.describe()"
   ]
  },
  {
   "cell_type": "code",
   "execution_count": 60,
   "metadata": {},
   "outputs": [
    {
     "data": {
      "text/html": [
       "<div>\n",
       "<style scoped>\n",
       "    .dataframe tbody tr th:only-of-type {\n",
       "        vertical-align: middle;\n",
       "    }\n",
       "\n",
       "    .dataframe tbody tr th {\n",
       "        vertical-align: top;\n",
       "    }\n",
       "\n",
       "    .dataframe thead th {\n",
       "        text-align: right;\n",
       "    }\n",
       "</style>\n",
       "<table border=\"1\" class=\"dataframe\">\n",
       "  <thead>\n",
       "    <tr style=\"text-align: right;\">\n",
       "      <th></th>\n",
       "      <th>Rating</th>\n",
       "    </tr>\n",
       "  </thead>\n",
       "  <tbody>\n",
       "    <tr>\n",
       "      <th>count</th>\n",
       "      <td>5000.000000</td>\n",
       "    </tr>\n",
       "    <tr>\n",
       "      <th>mean</th>\n",
       "      <td>3.000000</td>\n",
       "    </tr>\n",
       "    <tr>\n",
       "      <th>std</th>\n",
       "      <td>1.414355</td>\n",
       "    </tr>\n",
       "    <tr>\n",
       "      <th>min</th>\n",
       "      <td>1.000000</td>\n",
       "    </tr>\n",
       "    <tr>\n",
       "      <th>25%</th>\n",
       "      <td>2.000000</td>\n",
       "    </tr>\n",
       "    <tr>\n",
       "      <th>50%</th>\n",
       "      <td>3.000000</td>\n",
       "    </tr>\n",
       "    <tr>\n",
       "      <th>75%</th>\n",
       "      <td>4.000000</td>\n",
       "    </tr>\n",
       "    <tr>\n",
       "      <th>max</th>\n",
       "      <td>5.000000</td>\n",
       "    </tr>\n",
       "  </tbody>\n",
       "</table>\n",
       "</div>"
      ],
      "text/plain": [
       "            Rating\n",
       "count  5000.000000\n",
       "mean      3.000000\n",
       "std       1.414355\n",
       "min       1.000000\n",
       "25%       2.000000\n",
       "50%       3.000000\n",
       "75%       4.000000\n",
       "max       5.000000"
      ]
     },
     "execution_count": 60,
     "metadata": {},
     "output_type": "execute_result"
    }
   ],
   "source": [
    "data_ratings.describe()"
   ]
  },
  {
   "cell_type": "code",
   "execution_count": 61,
   "metadata": {},
   "outputs": [],
   "source": [
    "# create datsets from the data\n",
    "data_patients_train=data_patients.values[:4000]\n",
    "data_patients_test=data_patients.values[4000:]\n",
    "\n",
    "data_doctors_train=data_doctors.values[:4000]\n",
    "data_doctors_test=data_doctors.values[4000:]\n",
    "\n",
    "data_ratings_train=data_ratings.values[:4000]\n",
    "data_ratings_test=data_ratings.values[4000:]\n",
    "\n",
    "# patients data\n",
    "train_dataset = tf.data.Dataset.from_tensor_slices((data_patients_train, data_doctors_train))\n",
    "test_dataset = tf.data.Dataset.from_tensor_slices((data_patients_test, data_doctors_test))\n",
    "\n",
    "# ratings data\n",
    "\n",
    "train_labels = tf.data.Dataset.from_tensor_slices(data_ratings_train)\n",
    "test_labels = tf.data.Dataset.from_tensor_slices(data_ratings_test)\n",
    "\n",
    "# zip the datasets\n",
    "\n",
    "train_dataset = tf.data.Dataset.zip((train_dataset, train_labels))\n",
    "test_dataset = tf.data.Dataset.zip((test_dataset, test_labels))\n",
    "\n",
    "# shuffle the datasets\n",
    "BATCH_SIZE = 32\n",
    "SHUFFLE_BUFFER_SIZE = 100\n",
    "\n",
    "train_dataset = train_dataset.shuffle(SHUFFLE_BUFFER_SIZE).batch(BATCH_SIZE)\n",
    "test_dataset = test_dataset.batch(BATCH_SIZE)"
   ]
  },
  {
   "cell_type": "code",
   "execution_count": 62,
   "metadata": {},
   "outputs": [
    {
     "data": {
      "text/plain": [
       "<_BatchDataset element_spec=((TensorSpec(shape=(None, 6), dtype=tf.int64, name=None), TensorSpec(shape=(None, 8), dtype=tf.float64, name=None)), TensorSpec(shape=(None, 1), dtype=tf.int64, name=None))>"
      ]
     },
     "execution_count": 62,
     "metadata": {},
     "output_type": "execute_result"
    }
   ],
   "source": [
    "train_dataset"
   ]
  },
  {
   "cell_type": "code",
   "execution_count": 63,
   "metadata": {},
   "outputs": [
    {
     "data": {
      "text/plain": [
       "<_BatchDataset element_spec=((TensorSpec(shape=(None, 6), dtype=tf.int64, name=None), TensorSpec(shape=(None, 8), dtype=tf.float64, name=None)), TensorSpec(shape=(None, 1), dtype=tf.int64, name=None))>"
      ]
     },
     "execution_count": 63,
     "metadata": {},
     "output_type": "execute_result"
    }
   ],
   "source": [
    "test_dataset"
   ]
  },
  {
   "cell_type": "code",
   "execution_count": 64,
   "metadata": {},
   "outputs": [],
   "source": [
    "def create_model(hp):\n",
    "    lr=hp.Float('learning_rate',min_value=1e-6,max_value=1e-1,sampling='LOG',default=1e-3)\n",
    "    unit1=hp.Int('unit1',min_value=32,max_value=128,step=32)\n",
    "    unit2=hp.Int('unit2',min_value=32,max_value=64,step=32)\n",
    "    unit3=hp.Int('unit3',min_value=32,max_value=64,step=32)\n",
    "    unit4=hp.Int('unit4',min_value=16,max_value=32,step=32)\n",
    "    input1=tf.keras.layers.Input(shape=(6,))\n",
    "    input2=tf.keras.layers.Input(shape=(8,))\n",
    "\n",
    "    a=tf.keras.layers.Dense(unit1,activation='relu')(input1)\n",
    "    b=tf.keras.layers.Dense(unit1,activation='relu')(input2)\n",
    "\n",
    "    b=tf.keras.layers.Dense(unit2,activation='relu')(b)\n",
    "    a=tf.keras.layers.Dense(unit2,activation='relu')(a)\n",
    "\n",
    "    a=tf.keras.layers.Dense(unit3,activation='relu')(a)\n",
    "    b=tf.keras.layers.Dense(unit3,activation='relu')(b)\n",
    "\n",
    "    c=tf.keras.layers.add([a,b])\n",
    "\n",
    "    c=tf.keras.layers.Dense(unit4,activation='relu')(c)\n",
    "    c=tf.keras.layers.Dense(6,activation='softmax')(c)\n",
    "\n",
    "    model=tf.keras.models.Model(inputs=[input1,input2],outputs=c)\n",
    "\n",
    "    model.compile(optimizer=tf.keras.optimizers.Adam(learning_rate=1e-3),loss='sparse_categorical_crossentropy',metrics=['accuracy'])\n",
    "\n",
    "    return model"
   ]
  },
  {
   "cell_type": "code",
   "execution_count": 65,
   "metadata": {},
   "outputs": [],
   "source": [
    "# tune the hyperparameters\n",
    "\n",
    "import keras_tuner as kt\n",
    "\n",
    "tuner=kt.Hyperband(create_model,objective='val_accuracy',max_epochs=10,overwrite=True,project_name='doctor_rating')"
   ]
  },
  {
   "cell_type": "code",
   "execution_count": 66,
   "metadata": {},
   "outputs": [
    {
     "name": "stdout",
     "output_type": "stream",
     "text": [
      "Trial 30 Complete [00h 00m 04s]\n",
      "val_accuracy: 0.9169999957084656\n",
      "\n",
      "Best val_accuracy So Far: 0.9470000267028809\n",
      "Total elapsed time: 00h 01m 11s\n"
     ]
    }
   ],
   "source": [
    "tuner.search(train_dataset,epochs=10,validation_data=test_dataset)"
   ]
  },
  {
   "cell_type": "code",
   "execution_count": 67,
   "metadata": {},
   "outputs": [],
   "source": [
    "model = tuner.get_best_models()[0]"
   ]
  },
  {
   "cell_type": "code",
   "execution_count": 68,
   "metadata": {},
   "outputs": [
    {
     "name": "stdout",
     "output_type": "stream",
     "text": [
      "You must install pydot (`pip install pydot`) and install graphviz (see instructions at https://graphviz.gitlab.io/download/) for plot_model to work.\n"
     ]
    }
   ],
   "source": [
    "# plot the model\n",
    "\n",
    "tf.keras.utils.plot_model(model,show_shapes=True)"
   ]
  },
  {
   "cell_type": "code",
   "execution_count": 69,
   "metadata": {},
   "outputs": [],
   "source": [
    "# import the callbacks\n",
    "\n",
    "from tensorflow.keras.callbacks import ModelCheckpoint,EarlyStopping,ReduceLROnPlateau\n",
    "\n",
    "checkpoint=ModelCheckpoint('recommender-ensemble.h5',monitor='loss',save_best_only=True)\n",
    "\n",
    "earlystop=EarlyStopping(monitor='loss',patience=10)\n",
    "\n",
    "reduce_lr=ReduceLROnPlateau(monitor='loss',factor=0.2,patience=1,min_lr=1e-6)\n"
   ]
  },
  {
   "cell_type": "code",
   "execution_count": 70,
   "metadata": {},
   "outputs": [
    {
     "name": "stdout",
     "output_type": "stream",
     "text": [
      "Epoch 1/10\n"
     ]
    },
    {
     "name": "stdout",
     "output_type": "stream",
     "text": [
      "125/125 [==============================] - 1s 3ms/step - loss: 0.7959 - accuracy: 0.7005 - val_loss: 0.2220 - val_accuracy: 0.9300\n",
      "Epoch 2/10\n",
      "125/125 [==============================] - 0s 2ms/step - loss: 0.3924 - accuracy: 0.8562 - val_loss: 0.2037 - val_accuracy: 0.9320\n",
      "Epoch 3/10\n",
      "125/125 [==============================] - 0s 2ms/step - loss: 0.4455 - accuracy: 0.7920 - val_loss: 0.2149 - val_accuracy: 0.9330\n",
      "Epoch 4/10\n",
      "125/125 [==============================] - 0s 2ms/step - loss: 0.2818 - accuracy: 0.8635 - val_loss: 0.7075 - val_accuracy: 0.8400\n",
      "Epoch 5/10\n",
      "125/125 [==============================] - 0s 2ms/step - loss: 0.4923 - accuracy: 0.7933 - val_loss: 1.7472 - val_accuracy: 0.8300\n",
      "Epoch 6/10\n",
      "125/125 [==============================] - 0s 2ms/step - loss: 0.3414 - accuracy: 0.8680 - val_loss: 0.1961 - val_accuracy: 0.9460\n",
      "Epoch 7/10\n",
      "125/125 [==============================] - 0s 1ms/step - loss: 0.4252 - accuracy: 0.8230 - val_loss: 0.3466 - val_accuracy: 0.9080\n",
      "Epoch 8/10\n",
      "125/125 [==============================] - 0s 1ms/step - loss: 0.4308 - accuracy: 0.8235 - val_loss: 0.7482 - val_accuracy: 0.8720\n",
      "Epoch 9/10\n",
      "125/125 [==============================] - 0s 2ms/step - loss: 0.3179 - accuracy: 0.8618 - val_loss: 0.4827 - val_accuracy: 0.8930\n",
      "Epoch 10/10\n",
      "125/125 [==============================] - 0s 1ms/step - loss: 0.3779 - accuracy: 0.8133 - val_loss: 0.2769 - val_accuracy: 0.9340\n"
     ]
    },
    {
     "data": {
      "text/plain": [
       "<keras.callbacks.History at 0x18b88b94ed0>"
      ]
     },
     "execution_count": 70,
     "metadata": {},
     "output_type": "execute_result"
    }
   ],
   "source": [
    "model.fit(train_dataset,epochs=10,validation_data=test_dataset,callbacks=[checkpoint])"
   ]
  },
  {
   "cell_type": "code",
   "execution_count": 71,
   "metadata": {},
   "outputs": [
    {
     "name": "stdout",
     "output_type": "stream",
     "text": [
      "32/32 [==============================] - 0s 710us/step\n"
     ]
    }
   ],
   "source": [
    "# test the model\n",
    "y_pred=model.predict(test_dataset)"
   ]
  },
  {
   "cell_type": "code",
   "execution_count": 72,
   "metadata": {},
   "outputs": [],
   "source": [
    "y_pred=np.array(y_pred)"
   ]
  },
  {
   "cell_type": "code",
   "execution_count": 73,
   "metadata": {},
   "outputs": [],
   "source": [
    "y_pred=np.argmax(y_pred,axis=1)"
   ]
  },
  {
   "cell_type": "code",
   "execution_count": 74,
   "metadata": {},
   "outputs": [
    {
     "data": {
      "text/plain": [
       "<matplotlib.collections.PathCollection at 0x18b8e434850>"
      ]
     },
     "execution_count": 74,
     "metadata": {},
     "output_type": "execute_result"
    },
    {
     "data": {
      "image/png": "[encoded data removed]",
      "text/plain": [
       "<Figure size 640x480 with 1 Axes>"
      ]
     },
     "metadata": {},
     "output_type": "display_data"
    }
   ],
   "source": [
    "plt.scatter(range(len(y_pred)),y_pred,color='red')"
   ]
  },
  {
   "cell_type": "code",
   "execution_count": 75,
   "metadata": {},
   "outputs": [],
   "source": [
    "y_true=np.fromiter(test_labels.as_numpy_iterator(),dtype=np.int32)"
   ]
  },
  {
   "cell_type": "code",
   "execution_count": 76,
   "metadata": {},
   "outputs": [
    {
     "data": {
      "text/plain": [
       "<matplotlib.collections.PathCollection at 0x18b90823ad0>"
      ]
     },
     "execution_count": 76,
     "metadata": {},
     "output_type": "execute_result"
    },
    {
     "data": {
      "image/png": "[encoded data removed]",
      "text/plain": [
       "<Figure size 640x480 with 1 Axes>"
      ]
     },
     "metadata": {},
     "output_type": "display_data"
    }
   ],
   "source": [
    "plt.scatter(range(len(y_pred)),y_true,color='blue')"
   ]
  },
  {
   "cell_type": "code",
   "execution_count": 77,
   "metadata": {},
   "outputs": [
    {
     "data": {
      "text/plain": [
       "<Axes: >"
      ]
     },
     "execution_count": 77,
     "metadata": {},
     "output_type": "execute_result"
    },
    {
     "data": {
      "image/png": "[encoded data removed]",
      "text/plain": [
       "<Figure size 640x480 with 2 Axes>"
      ]
     },
     "metadata": {},
     "output_type": "display_data"
    }
   ],
   "source": [
    "# confusion matrix in heat map\n",
    "\n",
    "from sklearn.metrics import confusion_matrix\n",
    "cm=confusion_matrix(y_true,y_pred)\n",
    "\n",
    "import seaborn as sns\n",
    "sns.heatmap(cm,annot=True)"
   ]
  },
  {
   "cell_type": "code",
   "execution_count": 79,
   "metadata": {},
   "outputs": [],
   "source": [
    "model.save('recommender-ensemble.h5')"
   ]
  },
  {
   "cell_type": "code",
   "execution_count": null,
   "metadata": {},
   "outputs": [],
   "source": []
  }
 ],
 "metadata": {
  "kernelspec": {
   "display_name": "Python 3",
   "language": "python",
   "name": "python3"
  },
  "language_info": {
   "codemirror_mode": {
    "name": "ipython",
    "version": 3
   },
   "file_extension": ".py",
   "mimetype": "text/x-python",
   "name": "python",
   "nbconvert_exporter": "python",
   "pygments_lexer": "ipython3",
   "version": "3.11.3"
  }
 },
 "nbformat": 4,
 "nbformat_minor": 2
}
