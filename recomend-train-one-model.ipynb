{
 "cells": [
  {
   "cell_type": "code",
   "execution_count": 91,
   "metadata": {},
   "outputs": [],
   "source": [
    "import tensorflow as tf\n",
    "import numpy as np\n",
    "import matplotlib.pyplot as plt\n",
    "import pandas as pd"
   ]
  },
  {
   "cell_type": "code",
   "execution_count": 92,
   "metadata": {},
   "outputs": [],
   "source": [
    "dc=pd.read_csv('doctor_information.csv')\n",
    "pt=pd.read_csv('patient_information.csv')\n",
    "apt=pd.read_csv('appointments.csv')"
   ]
  },
  {
   "cell_type": "code",
   "execution_count": 93,
   "metadata": {},
   "outputs": [
    {
     "data": {
      "text/html": [
       "<div>\n",
       "<style scoped>\n",
       "    .dataframe tbody tr th:only-of-type {\n",
       "        vertical-align: middle;\n",
       "    }\n",
       "\n",
       "    .dataframe tbody tr th {\n",
       "        vertical-align: top;\n",
       "    }\n",
       "\n",
       "    .dataframe thead th {\n",
       "        text-align: right;\n",
       "    }\n",
       "</style>\n",
       "<table border=\"1\" class=\"dataframe\">\n",
       "  <thead>\n",
       "    <tr style=\"text-align: right;\">\n",
       "      <th></th>\n",
       "      <th>ID</th>\n",
       "      <th>Age</th>\n",
       "      <th>Type</th>\n",
       "      <th>Experience</th>\n",
       "      <th>Hospital Location</th>\n",
       "      <th>Patients in Queue</th>\n",
       "      <th>Patients Seen in Lifetime</th>\n",
       "    </tr>\n",
       "  </thead>\n",
       "  <tbody>\n",
       "    <tr>\n",
       "      <th>count</th>\n",
       "      <td>100000.000000</td>\n",
       "      <td>100000.000000</td>\n",
       "      <td>100000.000000</td>\n",
       "      <td>100000.000000</td>\n",
       "      <td>100000.000000</td>\n",
       "      <td>100000.000000</td>\n",
       "      <td>100000.000000</td>\n",
       "    </tr>\n",
       "    <tr>\n",
       "      <th>mean</th>\n",
       "      <td>7760.760210</td>\n",
       "      <td>54.933190</td>\n",
       "      <td>50.453050</td>\n",
       "      <td>14.971910</td>\n",
       "      <td>950.023910</td>\n",
       "      <td>15.537560</td>\n",
       "      <td>5505.415220</td>\n",
       "    </tr>\n",
       "    <tr>\n",
       "      <th>std</th>\n",
       "      <td>4184.189546</td>\n",
       "      <td>14.751454</td>\n",
       "      <td>28.879966</td>\n",
       "      <td>8.943474</td>\n",
       "      <td>29.193538</td>\n",
       "      <td>8.674896</td>\n",
       "      <td>2597.791948</td>\n",
       "    </tr>\n",
       "    <tr>\n",
       "      <th>min</th>\n",
       "      <td>500.000000</td>\n",
       "      <td>30.000000</td>\n",
       "      <td>1.000000</td>\n",
       "      <td>0.000000</td>\n",
       "      <td>900.000000</td>\n",
       "      <td>1.000000</td>\n",
       "      <td>1000.000000</td>\n",
       "    </tr>\n",
       "    <tr>\n",
       "      <th>25%</th>\n",
       "      <td>4132.000000</td>\n",
       "      <td>42.000000</td>\n",
       "      <td>25.000000</td>\n",
       "      <td>7.000000</td>\n",
       "      <td>925.000000</td>\n",
       "      <td>8.000000</td>\n",
       "      <td>3258.000000</td>\n",
       "    </tr>\n",
       "    <tr>\n",
       "      <th>50%</th>\n",
       "      <td>7771.000000</td>\n",
       "      <td>55.000000</td>\n",
       "      <td>50.000000</td>\n",
       "      <td>15.000000</td>\n",
       "      <td>950.000000</td>\n",
       "      <td>16.000000</td>\n",
       "      <td>5504.000000</td>\n",
       "    </tr>\n",
       "    <tr>\n",
       "      <th>75%</th>\n",
       "      <td>11391.250000</td>\n",
       "      <td>68.000000</td>\n",
       "      <td>76.000000</td>\n",
       "      <td>23.000000</td>\n",
       "      <td>975.000000</td>\n",
       "      <td>23.000000</td>\n",
       "      <td>7753.000000</td>\n",
       "    </tr>\n",
       "    <tr>\n",
       "      <th>max</th>\n",
       "      <td>15000.000000</td>\n",
       "      <td>80.000000</td>\n",
       "      <td>100.000000</td>\n",
       "      <td>30.000000</td>\n",
       "      <td>1000.000000</td>\n",
       "      <td>30.000000</td>\n",
       "      <td>10000.000000</td>\n",
       "    </tr>\n",
       "  </tbody>\n",
       "</table>\n",
       "</div>"
      ],
      "text/plain": [
       "                  ID            Age           Type     Experience   \n",
       "count  100000.000000  100000.000000  100000.000000  100000.000000  \\\n",
       "mean     7760.760210      54.933190      50.453050      14.971910   \n",
       "std      4184.189546      14.751454      28.879966       8.943474   \n",
       "min       500.000000      30.000000       1.000000       0.000000   \n",
       "25%      4132.000000      42.000000      25.000000       7.000000   \n",
       "50%      7771.000000      55.000000      50.000000      15.000000   \n",
       "75%     11391.250000      68.000000      76.000000      23.000000   \n",
       "max     15000.000000      80.000000     100.000000      30.000000   \n",
       "\n",
       "       Hospital Location  Patients in Queue  Patients Seen in Lifetime  \n",
       "count      100000.000000      100000.000000              100000.000000  \n",
       "mean          950.023910          15.537560                5505.415220  \n",
       "std            29.193538           8.674896                2597.791948  \n",
       "min           900.000000           1.000000                1000.000000  \n",
       "25%           925.000000           8.000000                3258.000000  \n",
       "50%           950.000000          16.000000                5504.000000  \n",
       "75%           975.000000          23.000000                7753.000000  \n",
       "max          1000.000000          30.000000               10000.000000  "
      ]
     },
     "execution_count": 93,
     "metadata": {},
     "output_type": "execute_result"
    }
   ],
   "source": [
    "dc.describe()"
   ]
  },
  {
   "cell_type": "code",
   "execution_count": 94,
   "metadata": {},
   "outputs": [
    {
     "data": {
      "text/html": [
       "<div>\n",
       "<style scoped>\n",
       "    .dataframe tbody tr th:only-of-type {\n",
       "        vertical-align: middle;\n",
       "    }\n",
       "\n",
       "    .dataframe tbody tr th {\n",
       "        vertical-align: top;\n",
       "    }\n",
       "\n",
       "    .dataframe thead th {\n",
       "        text-align: right;\n",
       "    }\n",
       "</style>\n",
       "<table border=\"1\" class=\"dataframe\">\n",
       "  <thead>\n",
       "    <tr style=\"text-align: right;\">\n",
       "      <th></th>\n",
       "      <th>ID</th>\n",
       "      <th>Age</th>\n",
       "      <th>Gender</th>\n",
       "      <th>Health Condition</th>\n",
       "      <th>Hospital Location</th>\n",
       "      <th>Preferred Doctor Type</th>\n",
       "      <th>Last Appointment</th>\n",
       "    </tr>\n",
       "  </thead>\n",
       "  <tbody>\n",
       "    <tr>\n",
       "      <th>count</th>\n",
       "      <td>50000.000000</td>\n",
       "      <td>50000.000000</td>\n",
       "      <td>50000.000000</td>\n",
       "      <td>50000.000000</td>\n",
       "      <td>50000.000000</td>\n",
       "      <td>50000.000000</td>\n",
       "      <td>50000.000000</td>\n",
       "    </tr>\n",
       "    <tr>\n",
       "      <th>mean</th>\n",
       "      <td>2997.029940</td>\n",
       "      <td>53.861420</td>\n",
       "      <td>1.501420</td>\n",
       "      <td>50.704980</td>\n",
       "      <td>950.039840</td>\n",
       "      <td>50.557780</td>\n",
       "      <td>183.981020</td>\n",
       "    </tr>\n",
       "    <tr>\n",
       "      <th>std</th>\n",
       "      <td>1158.672088</td>\n",
       "      <td>21.060809</td>\n",
       "      <td>0.500003</td>\n",
       "      <td>28.845212</td>\n",
       "      <td>29.068846</td>\n",
       "      <td>28.957266</td>\n",
       "      <td>105.450938</td>\n",
       "    </tr>\n",
       "    <tr>\n",
       "      <th>min</th>\n",
       "      <td>1000.000000</td>\n",
       "      <td>18.000000</td>\n",
       "      <td>1.000000</td>\n",
       "      <td>1.000000</td>\n",
       "      <td>900.000000</td>\n",
       "      <td>1.000000</td>\n",
       "      <td>1.000000</td>\n",
       "    </tr>\n",
       "    <tr>\n",
       "      <th>25%</th>\n",
       "      <td>1991.000000</td>\n",
       "      <td>36.000000</td>\n",
       "      <td>1.000000</td>\n",
       "      <td>26.000000</td>\n",
       "      <td>925.000000</td>\n",
       "      <td>26.000000</td>\n",
       "      <td>92.000000</td>\n",
       "    </tr>\n",
       "    <tr>\n",
       "      <th>50%</th>\n",
       "      <td>2992.000000</td>\n",
       "      <td>54.000000</td>\n",
       "      <td>2.000000</td>\n",
       "      <td>51.000000</td>\n",
       "      <td>950.000000</td>\n",
       "      <td>51.000000</td>\n",
       "      <td>185.000000</td>\n",
       "    </tr>\n",
       "    <tr>\n",
       "      <th>75%</th>\n",
       "      <td>4000.250000</td>\n",
       "      <td>72.000000</td>\n",
       "      <td>2.000000</td>\n",
       "      <td>76.000000</td>\n",
       "      <td>975.000000</td>\n",
       "      <td>76.000000</td>\n",
       "      <td>276.000000</td>\n",
       "    </tr>\n",
       "    <tr>\n",
       "      <th>max</th>\n",
       "      <td>5000.000000</td>\n",
       "      <td>90.000000</td>\n",
       "      <td>2.000000</td>\n",
       "      <td>100.000000</td>\n",
       "      <td>1000.000000</td>\n",
       "      <td>100.000000</td>\n",
       "      <td>365.000000</td>\n",
       "    </tr>\n",
       "  </tbody>\n",
       "</table>\n",
       "</div>"
      ],
      "text/plain": [
       "                 ID           Age        Gender  Health Condition   \n",
       "count  50000.000000  50000.000000  50000.000000      50000.000000  \\\n",
       "mean    2997.029940     53.861420      1.501420         50.704980   \n",
       "std     1158.672088     21.060809      0.500003         28.845212   \n",
       "min     1000.000000     18.000000      1.000000          1.000000   \n",
       "25%     1991.000000     36.000000      1.000000         26.000000   \n",
       "50%     2992.000000     54.000000      2.000000         51.000000   \n",
       "75%     4000.250000     72.000000      2.000000         76.000000   \n",
       "max     5000.000000     90.000000      2.000000        100.000000   \n",
       "\n",
       "       Hospital Location  Preferred Doctor Type  Last Appointment  \n",
       "count       50000.000000           50000.000000      50000.000000  \n",
       "mean          950.039840              50.557780        183.981020  \n",
       "std            29.068846              28.957266        105.450938  \n",
       "min           900.000000               1.000000          1.000000  \n",
       "25%           925.000000              26.000000         92.000000  \n",
       "50%           950.000000              51.000000        185.000000  \n",
       "75%           975.000000              76.000000        276.000000  \n",
       "max          1000.000000             100.000000        365.000000  "
      ]
     },
     "execution_count": 94,
     "metadata": {},
     "output_type": "execute_result"
    }
   ],
   "source": [
    "pt.describe()"
   ]
  },
  {
   "cell_type": "code",
   "execution_count": 95,
   "metadata": {},
   "outputs": [
    {
     "data": {
      "text/html": [
       "<div>\n",
       "<style scoped>\n",
       "    .dataframe tbody tr th:only-of-type {\n",
       "        vertical-align: middle;\n",
       "    }\n",
       "\n",
       "    .dataframe tbody tr th {\n",
       "        vertical-align: top;\n",
       "    }\n",
       "\n",
       "    .dataframe thead th {\n",
       "        text-align: right;\n",
       "    }\n",
       "</style>\n",
       "<table border=\"1\" class=\"dataframe\">\n",
       "  <thead>\n",
       "    <tr style=\"text-align: right;\">\n",
       "      <th></th>\n",
       "      <th>AppointmentID</th>\n",
       "      <th>PatientID</th>\n",
       "      <th>DoctorID</th>\n",
       "      <th>AppointmentDate</th>\n",
       "      <th>Rating</th>\n",
       "    </tr>\n",
       "  </thead>\n",
       "  <tbody>\n",
       "    <tr>\n",
       "      <th>count</th>\n",
       "      <td>1382.000000</td>\n",
       "      <td>1382.000000</td>\n",
       "      <td>1382.000000</td>\n",
       "      <td>1382.000000</td>\n",
       "      <td>1382.000000</td>\n",
       "    </tr>\n",
       "    <tr>\n",
       "      <th>mean</th>\n",
       "      <td>2472.530391</td>\n",
       "      <td>2953.258321</td>\n",
       "      <td>7648.138929</td>\n",
       "      <td>182.993488</td>\n",
       "      <td>7.039074</td>\n",
       "    </tr>\n",
       "    <tr>\n",
       "      <th>std</th>\n",
       "      <td>1423.445547</td>\n",
       "      <td>1156.271622</td>\n",
       "      <td>4121.384723</td>\n",
       "      <td>103.058053</td>\n",
       "      <td>2.018361</td>\n",
       "    </tr>\n",
       "    <tr>\n",
       "      <th>min</th>\n",
       "      <td>2.000000</td>\n",
       "      <td>1001.000000</td>\n",
       "      <td>506.000000</td>\n",
       "      <td>1.000000</td>\n",
       "      <td>4.000000</td>\n",
       "    </tr>\n",
       "    <tr>\n",
       "      <th>25%</th>\n",
       "      <td>1244.250000</td>\n",
       "      <td>1964.000000</td>\n",
       "      <td>4067.250000</td>\n",
       "      <td>96.250000</td>\n",
       "      <td>5.000000</td>\n",
       "    </tr>\n",
       "    <tr>\n",
       "      <th>50%</th>\n",
       "      <td>2491.000000</td>\n",
       "      <td>2947.000000</td>\n",
       "      <td>7751.500000</td>\n",
       "      <td>184.000000</td>\n",
       "      <td>7.000000</td>\n",
       "    </tr>\n",
       "    <tr>\n",
       "      <th>75%</th>\n",
       "      <td>3634.500000</td>\n",
       "      <td>3900.000000</td>\n",
       "      <td>11302.000000</td>\n",
       "      <td>271.000000</td>\n",
       "      <td>9.000000</td>\n",
       "    </tr>\n",
       "    <tr>\n",
       "      <th>max</th>\n",
       "      <td>5000.000000</td>\n",
       "      <td>4996.000000</td>\n",
       "      <td>14994.000000</td>\n",
       "      <td>365.000000</td>\n",
       "      <td>10.000000</td>\n",
       "    </tr>\n",
       "  </tbody>\n",
       "</table>\n",
       "</div>"
      ],
      "text/plain": [
       "       AppointmentID    PatientID      DoctorID  AppointmentDate       Rating\n",
       "count    1382.000000  1382.000000   1382.000000      1382.000000  1382.000000\n",
       "mean     2472.530391  2953.258321   7648.138929       182.993488     7.039074\n",
       "std      1423.445547  1156.271622   4121.384723       103.058053     2.018361\n",
       "min         2.000000  1001.000000    506.000000         1.000000     4.000000\n",
       "25%      1244.250000  1964.000000   4067.250000        96.250000     5.000000\n",
       "50%      2491.000000  2947.000000   7751.500000       184.000000     7.000000\n",
       "75%      3634.500000  3900.000000  11302.000000       271.000000     9.000000\n",
       "max      5000.000000  4996.000000  14994.000000       365.000000    10.000000"
      ]
     },
     "execution_count": 95,
     "metadata": {},
     "output_type": "execute_result"
    }
   ],
   "source": [
    "apt.describe()"
   ]
  },
  {
   "cell_type": "code",
   "execution_count": 96,
   "metadata": {},
   "outputs": [
    {
     "data": {
      "text/plain": [
       "PatientID\n",
       "True    1382\n",
       "Name: count, dtype: int64"
      ]
     },
     "execution_count": 96,
     "metadata": {},
     "output_type": "execute_result"
    }
   ],
   "source": [
    "# find if every appointment has a doctor and a patient whose information is available\n",
    "\n",
    "apt['DoctorID'].isin(dc['ID']).value_counts()\n",
    "apt['PatientID'].isin(pt['ID']).value_counts()"
   ]
  },
  {
   "cell_type": "code",
   "execution_count": 97,
   "metadata": {},
   "outputs": [],
   "source": [
    "docs=np.array(dc['ID'])\n",
    "pts=np.array(pt['ID'])"
   ]
  },
  {
   "cell_type": "code",
   "execution_count": 98,
   "metadata": {},
   "outputs": [
    {
     "data": {
      "text/plain": [
       "2335"
      ]
     },
     "execution_count": 98,
     "metadata": {},
     "output_type": "execute_result"
    }
   ],
   "source": [
    "docs[0]\n",
    "pts[0]"
   ]
  },
  {
   "cell_type": "code",
   "execution_count": 99,
   "metadata": {},
   "outputs": [],
   "source": [
    "# use this to create x values for the model which will be a list of lists of the form [[doctor information],[patient information]]\n",
    "\n",
    "doctor_info = []\n",
    "patient_info = []\n",
    "\n",
    "for i in range(len(apt)):\n",
    "    inf_doc = dc[dc['ID'] == apt['DoctorID'][i]]\n",
    "    inf_pt = pt[pt['ID'] == apt['PatientID'][i]]\n",
    "    inf_doc = inf_doc.values[0]                         #there is a problem here\n",
    "    inf_pt = inf_pt.values[0]                            #there is a problem here\n",
    "    doctor_info.append(inf_doc)\n",
    "    patient_info.append(inf_pt)\n",
    "\n",
    "doctor_info = np.array(doctor_info)\n",
    "patient_info = np.array(patient_info)\n",
    "\n",
    "y = apt['Rating'].values.tolist()"
   ]
  },
  {
   "cell_type": "code",
   "execution_count": 100,
   "metadata": {},
   "outputs": [],
   "source": [
    "# normalize the data\n",
    "\n",
    "doctor_info = (doctor_info - np.mean(doctor_info))/np.std(doctor_info)\n",
    "patient_info = (patient_info - np.mean(patient_info))/np.std(patient_info)"
   ]
  },
  {
   "cell_type": "code",
   "execution_count": 101,
   "metadata": {},
   "outputs": [
    {
     "data": {
      "text/plain": [
       "array([ 0.98549717, -0.5660733 , -0.57267206, -0.58328746, -0.32191899,\n",
       "       -0.5766887 ,  1.52889111])"
      ]
     },
     "execution_count": 101,
     "metadata": {},
     "output_type": "execute_result"
    }
   ],
   "source": [
    "doctor_info[0]"
   ]
  },
  {
   "cell_type": "code",
   "execution_count": 102,
   "metadata": {},
   "outputs": [
    {
     "data": {
      "text/plain": [
       "array([ 1.01993402, -0.49551902, -0.55012994, -0.4918783 ,  0.30726151,\n",
       "       -0.53010594, -0.385387  ])"
      ]
     },
     "execution_count": 102,
     "metadata": {},
     "output_type": "execute_result"
    }
   ],
   "source": [
    "patient_info[0]"
   ]
  },
  {
   "cell_type": "code",
   "execution_count": 122,
   "metadata": {},
   "outputs": [],
   "source": [
    "# create training and testing data\n",
    "\n",
    "train_size = int(0.8*len(doctor_info))\n",
    "test_size = len(doctor_info) - train_size\n",
    "\n",
    "train_doctor_info = doctor_info[:train_size]\n",
    "train_patient_info = patient_info[:train_size]\n",
    "train_doctor_info=np.array(train_doctor_info)\n",
    "train_patient_info=np.array(train_patient_info)\n",
    "train_y=np.array(y[:train_size])\n",
    "\n",
    "train_x=tf.data.Dataset.from_tensor_slices((train_doctor_info,train_patient_info))\n",
    "train_y=tf.data.Dataset.from_tensor_slices(train_y)\n",
    "train_data=tf.data.Dataset.zip((train_x,train_y))\n",
    "train_data=train_data.batch(32)\n",
    "\n",
    "test_doctor_info = doctor_info[train_size:]\n",
    "test_patient_info = patient_info[train_size:]\n",
    "test_doctor_info=np.array(test_doctor_info)\n",
    "test_patient_info=np.array(test_patient_info)\n",
    "test_y=np.array(y[train_size:])\n",
    "\n",
    "test_x=tf.data.Dataset.from_tensor_slices((test_doctor_info,test_patient_info))\n",
    "test_y=tf.data.Dataset.from_tensor_slices(test_y)\n",
    "test_data=tf.data.Dataset.zip((test_x,test_y))\n",
    "test_data=test_data.batch(32)"
   ]
  },
  {
   "cell_type": "code",
   "execution_count": 104,
   "metadata": {},
   "outputs": [],
   "source": [
    "input1=tf.keras.layers.Input(shape=(7,))\n",
    "input2=tf.keras.layers.Input(shape=(7,))\n",
    "\n",
    "a=tf.keras.layers.Dense(128,activation='relu')(input1)\n",
    "b=tf.keras.layers.Dense(128,activation='relu')(input2)\n",
    "\n",
    "a=tf.keras.layers.Dense(64,activation='relu')(a)\n",
    "b=tf.keras.layers.Dense(64,activation='relu')(b)\n",
    "\n",
    "a=tf.keras.layers.Dense(32,activation='relu')(a)\n",
    "b=tf.keras.layers.Dense(32,activation='relu')(b)\n",
    "\n",
    "c=tf.keras.layers.concatenate([a,b])\n",
    "\n",
    "c=tf.keras.layers.Dense(16,activation='relu')(c)\n",
    "c=tf.keras.layers.Dense(11,activation='softmax')(c)\n",
    "\n",
    "model=tf.keras.models.Model(inputs=[input1,input2],outputs=c)\n",
    "\n",
    "model.compile(optimizer='adam',loss='sparse_categorical_crossentropy',metrics=['accuracy'])"
   ]
  },
  {
   "cell_type": "code",
   "execution_count": 105,
   "metadata": {},
   "outputs": [
    {
     "name": "stdout",
     "output_type": "stream",
     "text": [
      "Model: \"model_12\"\n",
      "__________________________________________________________________________________________________\n",
      " Layer (type)                   Output Shape         Param #     Connected to                     \n",
      "==================================================================================================\n",
      " input_45 (InputLayer)          [(None, 7)]          0           []                               \n",
      "                                                                                                  \n",
      " input_46 (InputLayer)          [(None, 7)]          0           []                               \n",
      "                                                                                                  \n",
      " dense_96 (Dense)               (None, 128)          1024        ['input_45[0][0]']               \n",
      "                                                                                                  \n",
      " dense_97 (Dense)               (None, 128)          1024        ['input_46[0][0]']               \n",
      "                                                                                                  \n",
      " dense_98 (Dense)               (None, 64)           8256        ['dense_96[0][0]']               \n",
      "                                                                                                  \n",
      " dense_99 (Dense)               (None, 64)           8256        ['dense_97[0][0]']               \n",
      "                                                                                                  \n",
      " dense_100 (Dense)              (None, 32)           2080        ['dense_98[0][0]']               \n",
      "                                                                                                  \n",
      " dense_101 (Dense)              (None, 32)           2080        ['dense_99[0][0]']               \n",
      "                                                                                                  \n",
      " concatenate_12 (Concatenate)   (None, 64)           0           ['dense_100[0][0]',              \n",
      "                                                                  'dense_101[0][0]']              \n",
      "                                                                                                  \n",
      " dense_102 (Dense)              (None, 16)           1040        ['concatenate_12[0][0]']         \n",
      "                                                                                                  \n",
      " dense_103 (Dense)              (None, 11)           187         ['dense_102[0][0]']              \n",
      "                                                                                                  \n",
      "==================================================================================================\n",
      "Total params: 23,947\n",
      "Trainable params: 23,947\n",
      "Non-trainable params: 0\n",
      "__________________________________________________________________________________________________\n"
     ]
    }
   ],
   "source": [
    "model.summary()"
   ]
  },
  {
   "cell_type": "code",
   "execution_count": 109,
   "metadata": {},
   "outputs": [
    {
     "name": "stdout",
     "output_type": "stream",
     "text": [
      "You must install pydot (`pip install pydot`) and install graphviz (see instructions at https://graphviz.gitlab.io/download/) for plot_model to work.\n"
     ]
    }
   ],
   "source": [
    "# plot the model\n",
    "\n",
    "tf.keras.utils.plot_model(model,show_shapes=True)"
   ]
  },
  {
   "cell_type": "code",
   "execution_count": 106,
   "metadata": {},
   "outputs": [
    {
     "name": "stdout",
     "output_type": "stream",
     "text": [
      "Epoch 1/100\n"
     ]
    },
    {
     "name": "stdout",
     "output_type": "stream",
     "text": [
      "35/35 [==============================] - 1s 1ms/step - loss: 2.3501 - accuracy: 0.1339 \n",
      "Epoch 2/100\n",
      "35/35 [==============================] - 0s 1ms/step - loss: 2.2452 - accuracy: 0.1484\n",
      "Epoch 3/100\n",
      "35/35 [==============================] - 0s 1ms/step - loss: 2.1316 - accuracy: 0.1448\n",
      "Epoch 4/100\n",
      "35/35 [==============================] - 0s 888us/step - loss: 2.0197 - accuracy: 0.1430\n",
      "Epoch 5/100\n",
      "35/35 [==============================] - 0s 1ms/step - loss: 1.9610 - accuracy: 0.1584\n",
      "Epoch 6/100\n",
      "35/35 [==============================] - 0s 1ms/step - loss: 1.9535 - accuracy: 0.1611\n",
      "Epoch 7/100\n",
      "35/35 [==============================] - 0s 1ms/step - loss: 1.9501 - accuracy: 0.1692\n",
      "Epoch 8/100\n",
      "35/35 [==============================] - 0s 1ms/step - loss: 1.9480 - accuracy: 0.1656\n",
      "Epoch 9/100\n",
      "35/35 [==============================] - 0s 823us/step - loss: 1.9460 - accuracy: 0.1647\n",
      "Epoch 10/100\n",
      "35/35 [==============================] - 0s 982us/step - loss: 1.9452 - accuracy: 0.1647\n",
      "Epoch 11/100\n",
      "35/35 [==============================] - 0s 1ms/step - loss: 1.9441 - accuracy: 0.1683\n",
      "Epoch 12/100\n",
      "35/35 [==============================] - 0s 1ms/step - loss: 1.9424 - accuracy: 0.1692\n",
      "Epoch 13/100\n",
      "35/35 [==============================] - 0s 1ms/step - loss: 1.9415 - accuracy: 0.1692\n",
      "Epoch 14/100\n",
      "35/35 [==============================] - 0s 1ms/step - loss: 1.9407 - accuracy: 0.1710\n",
      "Epoch 15/100\n",
      "35/35 [==============================] - 0s 1ms/step - loss: 1.9394 - accuracy: 0.1674\n",
      "Epoch 16/100\n",
      "35/35 [==============================] - 0s 1ms/step - loss: 1.9387 - accuracy: 0.1747\n",
      "Epoch 17/100\n",
      "35/35 [==============================] - 0s 1ms/step - loss: 1.9376 - accuracy: 0.1729\n",
      "Epoch 18/100\n",
      "35/35 [==============================] - 0s 1ms/step - loss: 1.9366 - accuracy: 0.1774\n",
      "Epoch 19/100\n",
      "35/35 [==============================] - 0s 997us/step - loss: 1.9388 - accuracy: 0.1692\n",
      "Epoch 20/100\n",
      "35/35 [==============================] - 0s 1ms/step - loss: 1.9364 - accuracy: 0.1729\n",
      "Epoch 21/100\n",
      "35/35 [==============================] - 0s 1ms/step - loss: 1.9351 - accuracy: 0.1747\n",
      "Epoch 22/100\n",
      "35/35 [==============================] - 0s 1ms/step - loss: 1.9341 - accuracy: 0.1701\n",
      "Epoch 23/100\n",
      "35/35 [==============================] - 0s 1ms/step - loss: 1.9332 - accuracy: 0.1747\n",
      "Epoch 24/100\n",
      "35/35 [==============================] - 0s 1ms/step - loss: 1.9323 - accuracy: 0.1701\n",
      "Epoch 25/100\n",
      "35/35 [==============================] - 0s 798us/step - loss: 1.9315 - accuracy: 0.1692\n",
      "Epoch 26/100\n",
      "35/35 [==============================] - 0s 951us/step - loss: 1.9306 - accuracy: 0.1656\n",
      "Epoch 27/100\n",
      "35/35 [==============================] - 0s 1ms/step - loss: 1.9300 - accuracy: 0.1638\n",
      "Epoch 28/100\n",
      "35/35 [==============================] - 0s 521us/step - loss: 1.9292 - accuracy: 0.1674\n",
      "Epoch 29/100\n",
      "35/35 [==============================] - 0s 1ms/step - loss: 1.9285 - accuracy: 0.1683\n",
      "Epoch 30/100\n",
      "35/35 [==============================] - 0s 734us/step - loss: 1.9276 - accuracy: 0.1692\n",
      "Epoch 31/100\n",
      "35/35 [==============================] - 0s 980us/step - loss: 1.9272 - accuracy: 0.1674\n",
      "Epoch 32/100\n",
      "35/35 [==============================] - 0s 821us/step - loss: 1.9266 - accuracy: 0.1692\n",
      "Epoch 33/100\n",
      "35/35 [==============================] - 0s 860us/step - loss: 1.9258 - accuracy: 0.1729\n",
      "Epoch 34/100\n",
      "35/35 [==============================] - 0s 1ms/step - loss: 1.9248 - accuracy: 0.1729\n",
      "Epoch 35/100\n",
      "35/35 [==============================] - 0s 676us/step - loss: 1.9244 - accuracy: 0.1747\n",
      "Epoch 36/100\n",
      "35/35 [==============================] - 0s 984us/step - loss: 1.9237 - accuracy: 0.1747\n",
      "Epoch 37/100\n",
      "35/35 [==============================] - 0s 987us/step - loss: 1.9227 - accuracy: 0.1801\n",
      "Epoch 38/100\n",
      "35/35 [==============================] - 0s 505us/step - loss: 1.9221 - accuracy: 0.1801\n",
      "Epoch 39/100\n",
      "35/35 [==============================] - 0s 1ms/step - loss: 1.9209 - accuracy: 0.1837\n",
      "Epoch 40/100\n",
      "35/35 [==============================] - 0s 797us/step - loss: 1.9204 - accuracy: 0.1810\n",
      "Epoch 41/100\n",
      "35/35 [==============================] - 0s 951us/step - loss: 1.9196 - accuracy: 0.1846\n",
      "Epoch 42/100\n",
      "35/35 [==============================] - 0s 1ms/step - loss: 1.9190 - accuracy: 0.1882\n",
      "Epoch 43/100\n",
      "35/35 [==============================] - 0s 679us/step - loss: 1.9179 - accuracy: 0.1855\n",
      "Epoch 44/100\n",
      "35/35 [==============================] - 0s 975us/step - loss: 1.9173 - accuracy: 0.1855\n",
      "Epoch 45/100\n",
      "35/35 [==============================] - 0s 1ms/step - loss: 1.9169 - accuracy: 0.1946\n",
      "Epoch 46/100\n",
      "35/35 [==============================] - 0s 968us/step - loss: 1.9157 - accuracy: 0.1864\n",
      "Epoch 47/100\n",
      "35/35 [==============================] - 0s 1ms/step - loss: 1.9152 - accuracy: 0.1882\n",
      "Epoch 48/100\n",
      "35/35 [==============================] - 0s 651us/step - loss: 1.9138 - accuracy: 0.1964\n",
      "Epoch 49/100\n",
      "35/35 [==============================] - 0s 1ms/step - loss: 1.9138 - accuracy: 0.1946\n",
      "Epoch 50/100\n",
      "35/35 [==============================] - 0s 670us/step - loss: 1.9124 - accuracy: 0.1946\n",
      "Epoch 51/100\n",
      "35/35 [==============================] - 0s 982us/step - loss: 1.9115 - accuracy: 0.1955\n",
      "Epoch 52/100\n",
      "35/35 [==============================] - 0s 899us/step - loss: 1.9114 - accuracy: 0.1991\n",
      "Epoch 53/100\n",
      "35/35 [==============================] - 0s 870us/step - loss: 1.9101 - accuracy: 0.2009\n",
      "Epoch 54/100\n",
      "35/35 [==============================] - 0s 1ms/step - loss: 1.9091 - accuracy: 0.2036\n",
      "Epoch 55/100\n",
      "35/35 [==============================] - 0s 640us/step - loss: 1.9084 - accuracy: 0.2036\n",
      "Epoch 56/100\n",
      "35/35 [==============================] - 0s 983us/step - loss: 1.9073 - accuracy: 0.2063\n",
      "Epoch 57/100\n",
      "35/35 [==============================] - 0s 828us/step - loss: 1.9064 - accuracy: 0.2054\n",
      "Epoch 58/100\n",
      "35/35 [==============================] - 0s 880us/step - loss: 1.9056 - accuracy: 0.2081\n",
      "Epoch 59/100\n",
      "35/35 [==============================] - 0s 1ms/step - loss: 1.9045 - accuracy: 0.2109\n",
      "Epoch 60/100\n",
      "35/35 [==============================] - 0s 764us/step - loss: 1.9055 - accuracy: 0.2063\n",
      "Epoch 61/100\n",
      "35/35 [==============================] - 0s 980us/step - loss: 1.9028 - accuracy: 0.2100\n",
      "Epoch 62/100\n",
      "35/35 [==============================] - 0s 1ms/step - loss: 1.9020 - accuracy: 0.2109\n",
      "Epoch 63/100\n",
      "35/35 [==============================] - 0s 580us/step - loss: 1.9009 - accuracy: 0.2090\n",
      "Epoch 64/100\n",
      "35/35 [==============================] - 0s 997us/step - loss: 1.9000 - accuracy: 0.2118\n",
      "Epoch 65/100\n",
      "35/35 [==============================] - 0s 792us/step - loss: 1.8991 - accuracy: 0.2145\n",
      "Epoch 66/100\n",
      "35/35 [==============================] - 0s 964us/step - loss: 1.8979 - accuracy: 0.2127\n",
      "Epoch 67/100\n",
      "35/35 [==============================] - 0s 1ms/step - loss: 1.8967 - accuracy: 0.2154\n",
      "Epoch 68/100\n",
      "35/35 [==============================] - 0s 610us/step - loss: 1.8964 - accuracy: 0.2190\n",
      "Epoch 69/100\n",
      "35/35 [==============================] - 0s 1ms/step - loss: 1.8954 - accuracy: 0.2154\n",
      "Epoch 70/100\n",
      "35/35 [==============================] - 0s 798us/step - loss: 1.8944 - accuracy: 0.2190\n",
      "Epoch 71/100\n",
      "35/35 [==============================] - 0s 980us/step - loss: 1.8935 - accuracy: 0.2190\n",
      "Epoch 72/100\n",
      "35/35 [==============================] - 0s 1ms/step - loss: 1.8924 - accuracy: 0.2208\n",
      "Epoch 73/100\n",
      "35/35 [==============================] - 0s 582us/step - loss: 1.8916 - accuracy: 0.2235\n",
      "Epoch 74/100\n",
      "35/35 [==============================] - 0s 983us/step - loss: 1.8914 - accuracy: 0.2217\n",
      "Epoch 75/100\n",
      "35/35 [==============================] - 0s 824us/step - loss: 1.8898 - accuracy: 0.2253\n",
      "Epoch 76/100\n",
      "35/35 [==============================] - 0s 1ms/step - loss: 1.8890 - accuracy: 0.2271\n",
      "Epoch 77/100\n",
      "35/35 [==============================] - 0s 1ms/step - loss: 1.8877 - accuracy: 0.2244\n",
      "Epoch 78/100\n",
      "35/35 [==============================] - 0s 1ms/step - loss: 1.8873 - accuracy: 0.2308\n",
      "Epoch 79/100\n",
      "35/35 [==============================] - 0s 1ms/step - loss: 1.8858 - accuracy: 0.2253\n",
      "Epoch 80/100\n",
      "35/35 [==============================] - 0s 551us/step - loss: 1.8852 - accuracy: 0.2290\n",
      "Epoch 81/100\n",
      "35/35 [==============================] - 0s 997us/step - loss: 1.8836 - accuracy: 0.2326\n",
      "Epoch 82/100\n",
      "35/35 [==============================] - 0s 794us/step - loss: 1.8835 - accuracy: 0.2308\n",
      "Epoch 83/100\n",
      "35/35 [==============================] - 0s 506us/step - loss: 1.8816 - accuracy: 0.2308\n",
      "Epoch 84/100\n",
      "35/35 [==============================] - 0s 1ms/step - loss: 1.8818 - accuracy: 0.2326\n",
      "Epoch 85/100\n",
      "35/35 [==============================] - 0s 581us/step - loss: 1.8802 - accuracy: 0.2353\n",
      "Epoch 86/100\n",
      "35/35 [==============================] - 0s 1ms/step - loss: 1.8798 - accuracy: 0.2326\n",
      "Epoch 87/100\n",
      "35/35 [==============================] - 0s 1ms/step - loss: 1.8786 - accuracy: 0.2326\n",
      "Epoch 88/100\n",
      "35/35 [==============================] - 0s 872us/step - loss: 1.8777 - accuracy: 0.2344\n",
      "Epoch 89/100\n",
      "35/35 [==============================] - 0s 970us/step - loss: 1.8775 - accuracy: 0.2344\n",
      "Epoch 90/100\n",
      "35/35 [==============================] - 0s 1ms/step - loss: 1.8764 - accuracy: 0.2371\n",
      "Epoch 91/100\n",
      "35/35 [==============================] - 0s 1ms/step - loss: 1.8756 - accuracy: 0.2362\n",
      "Epoch 92/100\n",
      "35/35 [==============================] - 0s 1ms/step - loss: 1.8743 - accuracy: 0.2416\n",
      "Epoch 93/100\n",
      "35/35 [==============================] - 0s 965us/step - loss: 1.8740 - accuracy: 0.2353\n",
      "Epoch 94/100\n",
      "35/35 [==============================] - 0s 1ms/step - loss: 1.8723 - accuracy: 0.2434\n",
      "Epoch 95/100\n",
      "35/35 [==============================] - 0s 581us/step - loss: 1.8718 - accuracy: 0.2434\n",
      "Epoch 96/100\n",
      "35/35 [==============================] - 0s 1ms/step - loss: 1.8711 - accuracy: 0.2407\n",
      "Epoch 97/100\n",
      "35/35 [==============================] - 0s 610us/step - loss: 1.8696 - accuracy: 0.2389\n",
      "Epoch 98/100\n",
      "35/35 [==============================] - 0s 1ms/step - loss: 1.8694 - accuracy: 0.2389\n",
      "Epoch 99/100\n",
      "35/35 [==============================] - 0s 763us/step - loss: 1.8677 - accuracy: 0.2462\n",
      "Epoch 100/100\n",
      "35/35 [==============================] - 0s 980us/step - loss: 1.8676 - accuracy: 0.2443\n"
     ]
    },
    {
     "data": {
      "text/plain": [
       "<keras.callbacks.History at 0x1ee8b2bd550>"
      ]
     },
     "execution_count": 106,
     "metadata": {},
     "output_type": "execute_result"
    }
   ],
   "source": [
    "model.fit(train_data,epochs=100)"
   ]
  },
  {
   "cell_type": "code",
   "execution_count": 123,
   "metadata": {},
   "outputs": [
    {
     "name": "stdout",
     "output_type": "stream",
     "text": [
      "9/9 [==============================] - 0s 1ms/step\n"
     ]
    }
   ],
   "source": [
    "# test the model\n",
    "\n",
    "y_pred=model.predict(test_data)"
   ]
  },
  {
   "cell_type": "code",
   "execution_count": 113,
   "metadata": {},
   "outputs": [],
   "source": [
    "y_pred=np.array(y_pred)"
   ]
  },
  {
   "cell_type": "code",
   "execution_count": 125,
   "metadata": {},
   "outputs": [],
   "source": [
    "y_pred=np.argmax(y_pred,axis=1)"
   ]
  },
  {
   "cell_type": "code",
   "execution_count": 126,
   "metadata": {},
   "outputs": [
    {
     "data": {
      "text/plain": [
       "<matplotlib.collections.PathCollection at 0x1ee906e6b10>"
      ]
     },
     "execution_count": 126,
     "metadata": {},
     "output_type": "execute_result"
    },
    {
     "data": {
      "image/png": "[encoded data removed]",
      "text/plain": [
       "<Figure size 640x480 with 1 Axes>"
      ]
     },
     "metadata": {},
     "output_type": "display_data"
    }
   ],
   "source": [
    "plt.scatter(range(len(y_pred)),y_pred,color='red')\n",
    "plt.scatter(range(len(np.array(y[train_size:]))),np.array(y[train_size:]),color='blue')"
   ]
  },
  {
   "cell_type": "code",
   "execution_count": null,
   "metadata": {},
   "outputs": [],
   "source": []
  }
 ],
 "metadata": {
  "kernelspec": {
   "display_name": "Python 3",
   "language": "python",
   "name": "python3"
  },
  "language_info": {
   "codemirror_mode": {
    "name": "ipython",
    "version": 3
   },
   "file_extension": ".py",
   "mimetype": "text/x-python",
   "name": "python",
   "nbconvert_exporter": "python",
   "pygments_lexer": "ipython3",
   "version": "3.11.3"
  }
 },
 "nbformat": 4,
 "nbformat_minor": 2
}
