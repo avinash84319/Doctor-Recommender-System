{
 "cells": [
  {
   "cell_type": "code",
   "execution_count": 203,
   "metadata": {},
   "outputs": [],
   "source": [
    "import tensorflow as tf\n",
    "import numpy as np\n",
    "import matplotlib.pyplot as plt\n",
    "import pandas as pd"
   ]
  },
  {
   "cell_type": "code",
   "execution_count": 204,
   "metadata": {},
   "outputs": [],
   "source": [
    "dc=pd.read_csv('doctor_information.csv')\n",
    "pt=pd.read_csv('patient_information.csv')\n",
    "apt=pd.read_csv('appointments.csv')"
   ]
  },
  {
   "cell_type": "code",
   "execution_count": 205,
   "metadata": {},
   "outputs": [
    {
     "data": {
      "text/plain": [
       "<Axes: xlabel='Rating'>"
      ]
     },
     "execution_count": 205,
     "metadata": {},
     "output_type": "execute_result"
    },
    {
     "data": {
      "image/png": "[encoded data removed]",
      "text/plain": [
       "<Figure size 640x480 with 1 Axes>"
      ]
     },
     "metadata": {},
     "output_type": "display_data"
    }
   ],
   "source": [
    "apt['Rating'].value_counts().plot(kind='bar')"
   ]
  },
  {
   "cell_type": "code",
   "execution_count": 232,
   "metadata": {},
   "outputs": [],
   "source": [
    "mincount=min(apt['Rating'].value_counts())"
   ]
  },
  {
   "cell_type": "code",
   "execution_count": 206,
   "metadata": {},
   "outputs": [],
   "source": [
    "# take equal number of samples from each class\n",
    "\n",
    "apt=apt.groupby('Rating').apply(lambda x: x.sample(mincount,replace=True)).reset_index(drop=True)\n",
    "\n",
    "# shuffle the data\n",
    "\n",
    "apt=apt.sample(frac=1).reset_index(drop=True)"
   ]
  },
  {
   "cell_type": "code",
   "execution_count": 207,
   "metadata": {},
   "outputs": [
    {
     "data": {
      "text/plain": [
       "<Axes: xlabel='Rating'>"
      ]
     },
     "execution_count": 207,
     "metadata": {},
     "output_type": "execute_result"
    },
    {
     "data": {
      "image/png": "[encoded data removed]",
      "text/plain": [
       "<Figure size 640x480 with 1 Axes>"
      ]
     },
     "metadata": {},
     "output_type": "display_data"
    }
   ],
   "source": [
    "apt['Rating'].value_counts().plot(kind='bar')"
   ]
  },
  {
   "cell_type": "code",
   "execution_count": 208,
   "metadata": {},
   "outputs": [
    {
     "data": {
      "text/html": [
       "<div>\n",
       "<style scoped>\n",
       "    .dataframe tbody tr th:only-of-type {\n",
       "        vertical-align: middle;\n",
       "    }\n",
       "\n",
       "    .dataframe tbody tr th {\n",
       "        vertical-align: top;\n",
       "    }\n",
       "\n",
       "    .dataframe thead th {\n",
       "        text-align: right;\n",
       "    }\n",
       "</style>\n",
       "<table border=\"1\" class=\"dataframe\">\n",
       "  <thead>\n",
       "    <tr style=\"text-align: right;\">\n",
       "      <th></th>\n",
       "      <th>ID</th>\n",
       "      <th>Age</th>\n",
       "      <th>Type</th>\n",
       "      <th>Experience</th>\n",
       "      <th>Hospital Location</th>\n",
       "      <th>Patients in Queue</th>\n",
       "      <th>Patients Seen in Lifetime</th>\n",
       "    </tr>\n",
       "  </thead>\n",
       "  <tbody>\n",
       "    <tr>\n",
       "      <th>count</th>\n",
       "      <td>100000.000000</td>\n",
       "      <td>100000.000000</td>\n",
       "      <td>100000.000000</td>\n",
       "      <td>100000.000000</td>\n",
       "      <td>100000.000000</td>\n",
       "      <td>100000.000000</td>\n",
       "      <td>100000.000000</td>\n",
       "    </tr>\n",
       "    <tr>\n",
       "      <th>mean</th>\n",
       "      <td>7760.760210</td>\n",
       "      <td>54.933190</td>\n",
       "      <td>50.453050</td>\n",
       "      <td>14.971910</td>\n",
       "      <td>950.023910</td>\n",
       "      <td>15.537560</td>\n",
       "      <td>5505.415220</td>\n",
       "    </tr>\n",
       "    <tr>\n",
       "      <th>std</th>\n",
       "      <td>4184.189546</td>\n",
       "      <td>14.751454</td>\n",
       "      <td>28.879966</td>\n",
       "      <td>8.943474</td>\n",
       "      <td>29.193538</td>\n",
       "      <td>8.674896</td>\n",
       "      <td>2597.791948</td>\n",
       "    </tr>\n",
       "    <tr>\n",
       "      <th>min</th>\n",
       "      <td>500.000000</td>\n",
       "      <td>30.000000</td>\n",
       "      <td>1.000000</td>\n",
       "      <td>0.000000</td>\n",
       "      <td>900.000000</td>\n",
       "      <td>1.000000</td>\n",
       "      <td>1000.000000</td>\n",
       "    </tr>\n",
       "    <tr>\n",
       "      <th>25%</th>\n",
       "      <td>4132.000000</td>\n",
       "      <td>42.000000</td>\n",
       "      <td>25.000000</td>\n",
       "      <td>7.000000</td>\n",
       "      <td>925.000000</td>\n",
       "      <td>8.000000</td>\n",
       "      <td>3258.000000</td>\n",
       "    </tr>\n",
       "    <tr>\n",
       "      <th>50%</th>\n",
       "      <td>7771.000000</td>\n",
       "      <td>55.000000</td>\n",
       "      <td>50.000000</td>\n",
       "      <td>15.000000</td>\n",
       "      <td>950.000000</td>\n",
       "      <td>16.000000</td>\n",
       "      <td>5504.000000</td>\n",
       "    </tr>\n",
       "    <tr>\n",
       "      <th>75%</th>\n",
       "      <td>11391.250000</td>\n",
       "      <td>68.000000</td>\n",
       "      <td>76.000000</td>\n",
       "      <td>23.000000</td>\n",
       "      <td>975.000000</td>\n",
       "      <td>23.000000</td>\n",
       "      <td>7753.000000</td>\n",
       "    </tr>\n",
       "    <tr>\n",
       "      <th>max</th>\n",
       "      <td>15000.000000</td>\n",
       "      <td>80.000000</td>\n",
       "      <td>100.000000</td>\n",
       "      <td>30.000000</td>\n",
       "      <td>1000.000000</td>\n",
       "      <td>30.000000</td>\n",
       "      <td>10000.000000</td>\n",
       "    </tr>\n",
       "  </tbody>\n",
       "</table>\n",
       "</div>"
      ],
      "text/plain": [
       "                  ID            Age           Type     Experience   \n",
       "count  100000.000000  100000.000000  100000.000000  100000.000000  \\\n",
       "mean     7760.760210      54.933190      50.453050      14.971910   \n",
       "std      4184.189546      14.751454      28.879966       8.943474   \n",
       "min       500.000000      30.000000       1.000000       0.000000   \n",
       "25%      4132.000000      42.000000      25.000000       7.000000   \n",
       "50%      7771.000000      55.000000      50.000000      15.000000   \n",
       "75%     11391.250000      68.000000      76.000000      23.000000   \n",
       "max     15000.000000      80.000000     100.000000      30.000000   \n",
       "\n",
       "       Hospital Location  Patients in Queue  Patients Seen in Lifetime  \n",
       "count      100000.000000      100000.000000              100000.000000  \n",
       "mean          950.023910          15.537560                5505.415220  \n",
       "std            29.193538           8.674896                2597.791948  \n",
       "min           900.000000           1.000000                1000.000000  \n",
       "25%           925.000000           8.000000                3258.000000  \n",
       "50%           950.000000          16.000000                5504.000000  \n",
       "75%           975.000000          23.000000                7753.000000  \n",
       "max          1000.000000          30.000000               10000.000000  "
      ]
     },
     "execution_count": 208,
     "metadata": {},
     "output_type": "execute_result"
    }
   ],
   "source": [
    "dc.describe()"
   ]
  },
  {
   "cell_type": "code",
   "execution_count": 209,
   "metadata": {},
   "outputs": [
    {
     "data": {
      "text/html": [
       "<div>\n",
       "<style scoped>\n",
       "    .dataframe tbody tr th:only-of-type {\n",
       "        vertical-align: middle;\n",
       "    }\n",
       "\n",
       "    .dataframe tbody tr th {\n",
       "        vertical-align: top;\n",
       "    }\n",
       "\n",
       "    .dataframe thead th {\n",
       "        text-align: right;\n",
       "    }\n",
       "</style>\n",
       "<table border=\"1\" class=\"dataframe\">\n",
       "  <thead>\n",
       "    <tr style=\"text-align: right;\">\n",
       "      <th></th>\n",
       "      <th>ID</th>\n",
       "      <th>Age</th>\n",
       "      <th>Gender</th>\n",
       "      <th>Health Condition</th>\n",
       "      <th>Hospital Location</th>\n",
       "      <th>Preferred Doctor Type</th>\n",
       "      <th>Last Appointment</th>\n",
       "    </tr>\n",
       "  </thead>\n",
       "  <tbody>\n",
       "    <tr>\n",
       "      <th>count</th>\n",
       "      <td>50000.000000</td>\n",
       "      <td>50000.000000</td>\n",
       "      <td>50000.000000</td>\n",
       "      <td>50000.000000</td>\n",
       "      <td>50000.000000</td>\n",
       "      <td>50000.000000</td>\n",
       "      <td>50000.000000</td>\n",
       "    </tr>\n",
       "    <tr>\n",
       "      <th>mean</th>\n",
       "      <td>2997.029940</td>\n",
       "      <td>53.861420</td>\n",
       "      <td>1.501420</td>\n",
       "      <td>50.704980</td>\n",
       "      <td>950.039840</td>\n",
       "      <td>50.557780</td>\n",
       "      <td>183.981020</td>\n",
       "    </tr>\n",
       "    <tr>\n",
       "      <th>std</th>\n",
       "      <td>1158.672088</td>\n",
       "      <td>21.060809</td>\n",
       "      <td>0.500003</td>\n",
       "      <td>28.845212</td>\n",
       "      <td>29.068846</td>\n",
       "      <td>28.957266</td>\n",
       "      <td>105.450938</td>\n",
       "    </tr>\n",
       "    <tr>\n",
       "      <th>min</th>\n",
       "      <td>1000.000000</td>\n",
       "      <td>18.000000</td>\n",
       "      <td>1.000000</td>\n",
       "      <td>1.000000</td>\n",
       "      <td>900.000000</td>\n",
       "      <td>1.000000</td>\n",
       "      <td>1.000000</td>\n",
       "    </tr>\n",
       "    <tr>\n",
       "      <th>25%</th>\n",
       "      <td>1991.000000</td>\n",
       "      <td>36.000000</td>\n",
       "      <td>1.000000</td>\n",
       "      <td>26.000000</td>\n",
       "      <td>925.000000</td>\n",
       "      <td>26.000000</td>\n",
       "      <td>92.000000</td>\n",
       "    </tr>\n",
       "    <tr>\n",
       "      <th>50%</th>\n",
       "      <td>2992.000000</td>\n",
       "      <td>54.000000</td>\n",
       "      <td>2.000000</td>\n",
       "      <td>51.000000</td>\n",
       "      <td>950.000000</td>\n",
       "      <td>51.000000</td>\n",
       "      <td>185.000000</td>\n",
       "    </tr>\n",
       "    <tr>\n",
       "      <th>75%</th>\n",
       "      <td>4000.250000</td>\n",
       "      <td>72.000000</td>\n",
       "      <td>2.000000</td>\n",
       "      <td>76.000000</td>\n",
       "      <td>975.000000</td>\n",
       "      <td>76.000000</td>\n",
       "      <td>276.000000</td>\n",
       "    </tr>\n",
       "    <tr>\n",
       "      <th>max</th>\n",
       "      <td>5000.000000</td>\n",
       "      <td>90.000000</td>\n",
       "      <td>2.000000</td>\n",
       "      <td>100.000000</td>\n",
       "      <td>1000.000000</td>\n",
       "      <td>100.000000</td>\n",
       "      <td>365.000000</td>\n",
       "    </tr>\n",
       "  </tbody>\n",
       "</table>\n",
       "</div>"
      ],
      "text/plain": [
       "                 ID           Age        Gender  Health Condition   \n",
       "count  50000.000000  50000.000000  50000.000000      50000.000000  \\\n",
       "mean    2997.029940     53.861420      1.501420         50.704980   \n",
       "std     1158.672088     21.060809      0.500003         28.845212   \n",
       "min     1000.000000     18.000000      1.000000          1.000000   \n",
       "25%     1991.000000     36.000000      1.000000         26.000000   \n",
       "50%     2992.000000     54.000000      2.000000         51.000000   \n",
       "75%     4000.250000     72.000000      2.000000         76.000000   \n",
       "max     5000.000000     90.000000      2.000000        100.000000   \n",
       "\n",
       "       Hospital Location  Preferred Doctor Type  Last Appointment  \n",
       "count       50000.000000           50000.000000      50000.000000  \n",
       "mean          950.039840              50.557780        183.981020  \n",
       "std            29.068846              28.957266        105.450938  \n",
       "min           900.000000               1.000000          1.000000  \n",
       "25%           925.000000              26.000000         92.000000  \n",
       "50%           950.000000              51.000000        185.000000  \n",
       "75%           975.000000              76.000000        276.000000  \n",
       "max          1000.000000             100.000000        365.000000  "
      ]
     },
     "execution_count": 209,
     "metadata": {},
     "output_type": "execute_result"
    }
   ],
   "source": [
    "pt.describe()"
   ]
  },
  {
   "cell_type": "code",
   "execution_count": 210,
   "metadata": {},
   "outputs": [
    {
     "data": {
      "text/html": [
       "<div>\n",
       "<style scoped>\n",
       "    .dataframe tbody tr th:only-of-type {\n",
       "        vertical-align: middle;\n",
       "    }\n",
       "\n",
       "    .dataframe tbody tr th {\n",
       "        vertical-align: top;\n",
       "    }\n",
       "\n",
       "    .dataframe thead th {\n",
       "        text-align: right;\n",
       "    }\n",
       "</style>\n",
       "<table border=\"1\" class=\"dataframe\">\n",
       "  <thead>\n",
       "    <tr style=\"text-align: right;\">\n",
       "      <th></th>\n",
       "      <th>AppointmentID</th>\n",
       "      <th>PatientID</th>\n",
       "      <th>DoctorID</th>\n",
       "      <th>AppointmentDate</th>\n",
       "      <th>Rating</th>\n",
       "    </tr>\n",
       "  </thead>\n",
       "  <tbody>\n",
       "    <tr>\n",
       "      <th>count</th>\n",
       "      <td>15000.000000</td>\n",
       "      <td>15000.000000</td>\n",
       "      <td>15000.000000</td>\n",
       "      <td>15000.000000</td>\n",
       "      <td>15000.000000</td>\n",
       "    </tr>\n",
       "    <tr>\n",
       "      <th>mean</th>\n",
       "      <td>10034.118467</td>\n",
       "      <td>3013.968400</td>\n",
       "      <td>7788.113933</td>\n",
       "      <td>183.546733</td>\n",
       "      <td>2.500000</td>\n",
       "    </tr>\n",
       "    <tr>\n",
       "      <th>std</th>\n",
       "      <td>5777.837419</td>\n",
       "      <td>1157.464513</td>\n",
       "      <td>4194.955181</td>\n",
       "      <td>105.978216</td>\n",
       "      <td>1.707882</td>\n",
       "    </tr>\n",
       "    <tr>\n",
       "      <th>min</th>\n",
       "      <td>3.000000</td>\n",
       "      <td>1000.000000</td>\n",
       "      <td>500.000000</td>\n",
       "      <td>1.000000</td>\n",
       "      <td>0.000000</td>\n",
       "    </tr>\n",
       "    <tr>\n",
       "      <th>25%</th>\n",
       "      <td>5122.000000</td>\n",
       "      <td>2009.750000</td>\n",
       "      <td>4193.000000</td>\n",
       "      <td>93.000000</td>\n",
       "      <td>1.000000</td>\n",
       "    </tr>\n",
       "    <tr>\n",
       "      <th>50%</th>\n",
       "      <td>10035.500000</td>\n",
       "      <td>2995.000000</td>\n",
       "      <td>7781.000000</td>\n",
       "      <td>183.000000</td>\n",
       "      <td>2.500000</td>\n",
       "    </tr>\n",
       "    <tr>\n",
       "      <th>75%</th>\n",
       "      <td>15033.000000</td>\n",
       "      <td>4041.250000</td>\n",
       "      <td>11412.000000</td>\n",
       "      <td>277.000000</td>\n",
       "      <td>4.000000</td>\n",
       "    </tr>\n",
       "    <tr>\n",
       "      <th>max</th>\n",
       "      <td>20000.000000</td>\n",
       "      <td>5000.000000</td>\n",
       "      <td>15000.000000</td>\n",
       "      <td>365.000000</td>\n",
       "      <td>5.000000</td>\n",
       "    </tr>\n",
       "  </tbody>\n",
       "</table>\n",
       "</div>"
      ],
      "text/plain": [
       "       AppointmentID     PatientID      DoctorID  AppointmentDate   \n",
       "count   15000.000000  15000.000000  15000.000000     15000.000000  \\\n",
       "mean    10034.118467   3013.968400   7788.113933       183.546733   \n",
       "std      5777.837419   1157.464513   4194.955181       105.978216   \n",
       "min         3.000000   1000.000000    500.000000         1.000000   \n",
       "25%      5122.000000   2009.750000   4193.000000        93.000000   \n",
       "50%     10035.500000   2995.000000   7781.000000       183.000000   \n",
       "75%     15033.000000   4041.250000  11412.000000       277.000000   \n",
       "max     20000.000000   5000.000000  15000.000000       365.000000   \n",
       "\n",
       "             Rating  \n",
       "count  15000.000000  \n",
       "mean       2.500000  \n",
       "std        1.707882  \n",
       "min        0.000000  \n",
       "25%        1.000000  \n",
       "50%        2.500000  \n",
       "75%        4.000000  \n",
       "max        5.000000  "
      ]
     },
     "execution_count": 210,
     "metadata": {},
     "output_type": "execute_result"
    }
   ],
   "source": [
    "apt.describe()"
   ]
  },
  {
   "cell_type": "code",
   "execution_count": 211,
   "metadata": {},
   "outputs": [
    {
     "data": {
      "text/plain": [
       "PatientID\n",
       "True    15000\n",
       "Name: count, dtype: int64"
      ]
     },
     "execution_count": 211,
     "metadata": {},
     "output_type": "execute_result"
    }
   ],
   "source": [
    "# find if every appointment has a doctor and a patient whose information is available\n",
    "\n",
    "apt['DoctorID'].isin(dc['ID']).value_counts()\n",
    "apt['PatientID'].isin(pt['ID']).value_counts()"
   ]
  },
  {
   "cell_type": "code",
   "execution_count": 212,
   "metadata": {},
   "outputs": [],
   "source": [
    "docs=np.array(dc['ID'])\n",
    "pts=np.array(pt['ID'])"
   ]
  },
  {
   "cell_type": "code",
   "execution_count": 213,
   "metadata": {},
   "outputs": [
    {
     "data": {
      "text/plain": [
       "2335"
      ]
     },
     "execution_count": 213,
     "metadata": {},
     "output_type": "execute_result"
    }
   ],
   "source": [
    "docs[0]\n",
    "pts[0]"
   ]
  },
  {
   "cell_type": "code",
   "execution_count": 214,
   "metadata": {},
   "outputs": [],
   "source": [
    "# use this to create x values for the model which will be a list of lists of the form [[doctor information],[patient information]]\n",
    "\n",
    "doctor_info = []\n",
    "patient_info = []\n",
    "\n",
    "for i in range(len(apt)):\n",
    "    inf_doc = dc[dc['ID'] == apt['DoctorID'][i]]\n",
    "    inf_pt = pt[pt['ID'] == apt['PatientID'][i]]\n",
    "    inf_doc = inf_doc.values[0]                         #there is a problem here\n",
    "    inf_pt = inf_pt.values[0]                            #there is a problem here\n",
    "    doctor_info.append(inf_doc)\n",
    "    patient_info.append(inf_pt)\n",
    "\n",
    "doctor_info = np.array(doctor_info)\n",
    "patient_info = np.array(patient_info)\n",
    "\n",
    "y = apt['Rating'].values.tolist()"
   ]
  },
  {
   "cell_type": "code",
   "execution_count": 215,
   "metadata": {},
   "outputs": [],
   "source": [
    "# normalize the data\n",
    "\n",
    "doctor_info = (doctor_info - np.mean(doctor_info))/np.std(doctor_info)\n",
    "patient_info = (patient_info - np.mean(patient_info))/np.std(patient_info)"
   ]
  },
  {
   "cell_type": "code",
   "execution_count": 216,
   "metadata": {},
   "outputs": [
    {
     "data": {
      "text/plain": [
       "array([-0.21689656, -0.56054276, -0.57162812, -0.57844988, -0.30415825,\n",
       "       -0.58043956,  0.76600548])"
      ]
     },
     "execution_count": 216,
     "metadata": {},
     "output_type": "execute_result"
    }
   ],
   "source": [
    "doctor_info[0]"
   ]
  },
  {
   "cell_type": "code",
   "execution_count": 217,
   "metadata": {},
   "outputs": [
    {
     "data": {
      "text/plain": [
       "array([ 3.90560081, -0.52659563, -0.54807639, -0.49616456,  0.27535268,\n",
       "       -0.54718136, -0.23123521])"
      ]
     },
     "execution_count": 217,
     "metadata": {},
     "output_type": "execute_result"
    }
   ],
   "source": [
    "patient_info[0]"
   ]
  },
  {
   "cell_type": "code",
   "execution_count": 218,
   "metadata": {},
   "outputs": [],
   "source": [
    "# create training and testing data\n",
    "\n",
    "train_size = int(0.8*len(doctor_info))\n",
    "test_size = len(doctor_info) - train_size\n",
    "\n",
    "train_doctor_info = doctor_info[:train_size]\n",
    "train_patient_info = patient_info[:train_size]\n",
    "train_doctor_info=np.array(train_doctor_info)\n",
    "train_patient_info=np.array(train_patient_info)\n",
    "train_y=np.array(y[:train_size])\n",
    "\n",
    "train_x=tf.data.Dataset.from_tensor_slices((train_doctor_info,train_patient_info))\n",
    "train_y=tf.data.Dataset.from_tensor_slices(train_y)\n",
    "train_data=tf.data.Dataset.zip((train_x,train_y))\n",
    "train_data=train_data.batch(32)\n",
    "\n",
    "test_doctor_info = doctor_info[train_size:]\n",
    "test_patient_info = patient_info[train_size:]\n",
    "test_doctor_info=np.array(test_doctor_info)\n",
    "test_patient_info=np.array(test_patient_info)\n",
    "test_y=np.array(y[train_size:])\n",
    "\n",
    "test_x=tf.data.Dataset.from_tensor_slices((test_doctor_info,test_patient_info))\n",
    "test_y=tf.data.Dataset.from_tensor_slices(test_y)\n",
    "test_data=tf.data.Dataset.zip((test_x,test_y))\n",
    "test_data=test_data.batch(32)"
   ]
  },
  {
   "cell_type": "code",
   "execution_count": 219,
   "metadata": {},
   "outputs": [],
   "source": [
    "def create_model(hp):\n",
    "    lr=hp.Float('learning_rate',min_value=1e-6,max_value=1e-1,sampling='LOG',default=1e-3)\n",
    "    unit1=hp.Int('unit1',min_value=32,max_value=128,step=32)\n",
    "    unit2=hp.Int('unit2',min_value=32,max_value=64,step=32)\n",
    "    unit3=hp.Int('unit3',min_value=32,max_value=64,step=32)\n",
    "    unit4=hp.Int('unit4',min_value=16,max_value=32,step=32)\n",
    "    input1=tf.keras.layers.Input(shape=(7,))\n",
    "    input2=tf.keras.layers.Input(shape=(7,))\n",
    "\n",
    "    a=tf.keras.layers.Dense(unit1,activation='relu')(input1)\n",
    "    b=tf.keras.layers.Dense(unit1,activation='relu')(input2)\n",
    "\n",
    "    b=tf.keras.layers.Dense(unit2,activation='relu')(b)\n",
    "    a=tf.keras.layers.Dense(unit2,activation='relu')(a)\n",
    "\n",
    "    a=tf.keras.layers.Dense(unit3,activation='relu')(a)\n",
    "    b=tf.keras.layers.Dense(unit3,activation='relu')(b)\n",
    "\n",
    "    c=tf.keras.layers.add([a,b])\n",
    "\n",
    "    c=tf.keras.layers.Dense(unit4,activation='relu')(c)\n",
    "    c=tf.keras.layers.Dense(11,activation='softmax')(c)\n",
    "\n",
    "    model=tf.keras.models.Model(inputs=[input1,input2],outputs=c)\n",
    "\n",
    "    model.compile(optimizer=tf.keras.optimizers.Adam(learning_rate=1e-3),loss='sparse_categorical_crossentropy',metrics=['accuracy'])\n",
    "\n",
    "    return model"
   ]
  },
  {
   "cell_type": "code",
   "execution_count": 220,
   "metadata": {},
   "outputs": [],
   "source": [
    "# tune the hyperparameters\n",
    "\n",
    "import keras_tuner as kt\n",
    "\n",
    "tuner=kt.Hyperband(create_model,objective='val_accuracy',max_epochs=10,overwrite=True,project_name='doctor_patient')"
   ]
  },
  {
   "cell_type": "code",
   "execution_count": 221,
   "metadata": {},
   "outputs": [
    {
     "name": "stdout",
     "output_type": "stream",
     "text": [
      "Trial 30 Complete [00h 00m 06s]\n",
      "val_accuracy: 0.18266665935516357\n",
      "\n",
      "Best val_accuracy So Far: 0.18266665935516357\n",
      "Total elapsed time: 00h 01m 38s\n"
     ]
    }
   ],
   "source": [
    "tuner.search(train_data,epochs=10,validation_data=test_data)"
   ]
  },
  {
   "cell_type": "code",
   "execution_count": 222,
   "metadata": {},
   "outputs": [],
   "source": [
    "model = tuner.get_best_models()[0]"
   ]
  },
  {
   "cell_type": "code",
   "execution_count": 223,
   "metadata": {},
   "outputs": [
    {
     "name": "stdout",
     "output_type": "stream",
     "text": [
      "You must install pydot (`pip install pydot`) and install graphviz (see instructions at https://graphviz.gitlab.io/download/) for plot_model to work.\n"
     ]
    }
   ],
   "source": [
    "# plot the model\n",
    "\n",
    "tf.keras.utils.plot_model(model,show_shapes=True)"
   ]
  },
  {
   "cell_type": "code",
   "execution_count": 224,
   "metadata": {},
   "outputs": [],
   "source": [
    "# import the callbacks\n",
    "\n",
    "from tensorflow.keras.callbacks import ModelCheckpoint,EarlyStopping,ReduceLROnPlateau\n",
    "\n",
    "checkpoint=ModelCheckpoint('model.h5',monitor='loss',save_best_only=True)\n",
    "\n",
    "earlystop=EarlyStopping(monitor='loss',patience=10)\n",
    "\n",
    "reduce_lr=ReduceLROnPlateau(monitor='loss',factor=0.2,patience=1,min_lr=1e-6)\n"
   ]
  },
  {
   "cell_type": "code",
   "execution_count": 225,
   "metadata": {},
   "outputs": [
    {
     "name": "stdout",
     "output_type": "stream",
     "text": [
      "Epoch 1/50\n"
     ]
    },
    {
     "name": "stdout",
     "output_type": "stream",
     "text": [
      "375/375 [==============================] - 1s 1ms/step - loss: 1.7925 - accuracy: 0.1688 - lr: 0.0010\n",
      "Epoch 2/50\n",
      "375/375 [==============================] - 0s 980us/step - loss: 1.7922 - accuracy: 0.1689 - lr: 0.0010\n",
      "Epoch 3/50\n",
      "375/375 [==============================] - 0s 980us/step - loss: 1.7921 - accuracy: 0.1708 - lr: 0.0010\n",
      "Epoch 4/50\n",
      "375/375 [==============================] - 0s 980us/step - loss: 1.7917 - accuracy: 0.1724 - lr: 0.0010\n",
      "Epoch 5/50\n",
      "375/375 [==============================] - 0s 981us/step - loss: 1.7916 - accuracy: 0.1734 - lr: 0.0010\n",
      "Epoch 6/50\n",
      "375/375 [==============================] - 0s 1ms/step - loss: 1.7897 - accuracy: 0.1839 - lr: 2.0000e-04\n",
      "Epoch 7/50\n",
      "375/375 [==============================] - 0s 982us/step - loss: 1.7891 - accuracy: 0.1822 - lr: 2.0000e-04\n",
      "Epoch 8/50\n",
      "375/375 [==============================] - 0s 980us/step - loss: 1.7890 - accuracy: 0.1827 - lr: 2.0000e-04\n",
      "Epoch 9/50\n",
      "375/375 [==============================] - 0s 1ms/step - loss: 1.7889 - accuracy: 0.1833 - lr: 2.0000e-04\n",
      "Epoch 10/50\n",
      "375/375 [==============================] - 0s 1ms/step - loss: 1.7887 - accuracy: 0.1842 - lr: 2.0000e-04\n",
      "Epoch 11/50\n",
      "375/375 [==============================] - 0s 1ms/step - loss: 1.7887 - accuracy: 0.1838 - lr: 2.0000e-04\n",
      "Epoch 12/50\n",
      "375/375 [==============================] - 0s 1ms/step - loss: 1.7881 - accuracy: 0.1846 - lr: 4.0000e-05\n",
      "Epoch 13/50\n",
      "375/375 [==============================] - 0s 983us/step - loss: 1.7879 - accuracy: 0.1853 - lr: 4.0000e-05\n",
      "Epoch 14/50\n",
      "375/375 [==============================] - 0s 1ms/step - loss: 1.7878 - accuracy: 0.1870 - lr: 4.0000e-05\n",
      "Epoch 15/50\n",
      "375/375 [==============================] - 0s 981us/step - loss: 1.7876 - accuracy: 0.1869 - lr: 8.0000e-06\n",
      "Epoch 16/50\n",
      "375/375 [==============================] - 0s 1ms/step - loss: 1.7876 - accuracy: 0.1869 - lr: 8.0000e-06\n",
      "Epoch 17/50\n",
      "375/375 [==============================] - 0s 981us/step - loss: 1.7875 - accuracy: 0.1871 - lr: 1.6000e-06\n",
      "Epoch 18/50\n",
      "375/375 [==============================] - 0s 979us/step - loss: 1.7875 - accuracy: 0.1872 - lr: 1.0000e-06\n",
      "Epoch 19/50\n",
      "375/375 [==============================] - 0s 980us/step - loss: 1.7875 - accuracy: 0.1872 - lr: 1.0000e-06\n",
      "Epoch 20/50\n",
      "375/375 [==============================] - 0s 983us/step - loss: 1.7875 - accuracy: 0.1870 - lr: 1.0000e-06\n",
      "Epoch 21/50\n",
      "375/375 [==============================] - 0s 981us/step - loss: 1.7875 - accuracy: 0.1870 - lr: 1.0000e-06\n",
      "Epoch 22/50\n",
      "375/375 [==============================] - 0s 1ms/step - loss: 1.7875 - accuracy: 0.1869 - lr: 1.0000e-06\n",
      "Epoch 23/50\n",
      "375/375 [==============================] - 0s 1ms/step - loss: 1.7875 - accuracy: 0.1872 - lr: 1.0000e-06\n",
      "Epoch 24/50\n",
      "375/375 [==============================] - 0s 980us/step - loss: 1.7875 - accuracy: 0.1870 - lr: 1.0000e-06\n",
      "Epoch 25/50\n",
      "375/375 [==============================] - 0s 979us/step - loss: 1.7875 - accuracy: 0.1872 - lr: 1.0000e-06\n",
      "Epoch 26/50\n",
      "375/375 [==============================] - 0s 986us/step - loss: 1.7875 - accuracy: 0.1872 - lr: 1.0000e-06\n",
      "Epoch 27/50\n",
      "375/375 [==============================] - 0s 945us/step - loss: 1.7875 - accuracy: 0.1871 - lr: 1.0000e-06\n",
      "Epoch 28/50\n",
      "375/375 [==============================] - 0s 977us/step - loss: 1.7875 - accuracy: 0.1873 - lr: 1.0000e-06\n",
      "Epoch 29/50\n",
      "375/375 [==============================] - 0s 936us/step - loss: 1.7875 - accuracy: 0.1877 - lr: 1.0000e-06\n",
      "Epoch 30/50\n",
      "375/375 [==============================] - 0s 890us/step - loss: 1.7875 - accuracy: 0.1876 - lr: 1.0000e-06\n",
      "Epoch 31/50\n",
      "375/375 [==============================] - 0s 981us/step - loss: 1.7875 - accuracy: 0.1877 - lr: 1.0000e-06\n",
      "Epoch 32/50\n",
      "375/375 [==============================] - 0s 981us/step - loss: 1.7875 - accuracy: 0.1876 - lr: 1.0000e-06\n",
      "Epoch 33/50\n",
      "375/375 [==============================] - 0s 1ms/step - loss: 1.7875 - accuracy: 0.1876 - lr: 1.0000e-06\n",
      "Epoch 34/50\n",
      "375/375 [==============================] - 0s 1ms/step - loss: 1.7875 - accuracy: 0.1875 - lr: 1.0000e-06\n",
      "Epoch 35/50\n",
      "375/375 [==============================] - 0s 987us/step - loss: 1.7875 - accuracy: 0.1874 - lr: 1.0000e-06\n",
      "Epoch 36/50\n",
      "375/375 [==============================] - 0s 960us/step - loss: 1.7875 - accuracy: 0.1875 - lr: 1.0000e-06\n",
      "Epoch 37/50\n",
      "375/375 [==============================] - 0s 973us/step - loss: 1.7875 - accuracy: 0.1880 - lr: 1.0000e-06\n",
      "Epoch 38/50\n",
      "375/375 [==============================] - 0s 981us/step - loss: 1.7875 - accuracy: 0.1883 - lr: 1.0000e-06\n",
      "Epoch 39/50\n",
      "375/375 [==============================] - 0s 992us/step - loss: 1.7875 - accuracy: 0.1885 - lr: 1.0000e-06\n",
      "Epoch 40/50\n",
      "375/375 [==============================] - 0s 893us/step - loss: 1.7875 - accuracy: 0.1882 - lr: 1.0000e-06\n",
      "Epoch 41/50\n",
      "375/375 [==============================] - 0s 981us/step - loss: 1.7875 - accuracy: 0.1881 - lr: 1.0000e-06\n",
      "Epoch 42/50\n",
      "375/375 [==============================] - 0s 992us/step - loss: 1.7875 - accuracy: 0.1882 - lr: 1.0000e-06\n",
      "Epoch 43/50\n",
      "375/375 [==============================] - 0s 986us/step - loss: 1.7875 - accuracy: 0.1880 - lr: 1.0000e-06\n",
      "Epoch 44/50\n",
      "375/375 [==============================] - 0s 971us/step - loss: 1.7875 - accuracy: 0.1883 - lr: 1.0000e-06\n",
      "Epoch 45/50\n",
      "375/375 [==============================] - 0s 980us/step - loss: 1.7875 - accuracy: 0.1883 - lr: 1.0000e-06\n",
      "Epoch 46/50\n",
      "375/375 [==============================] - 0s 981us/step - loss: 1.7875 - accuracy: 0.1880 - lr: 1.0000e-06\n",
      "Epoch 47/50\n",
      "375/375 [==============================] - 0s 1ms/step - loss: 1.7875 - accuracy: 0.1879 - lr: 1.0000e-06\n",
      "Epoch 48/50\n",
      "375/375 [==============================] - 0s 954us/step - loss: 1.7875 - accuracy: 0.1878 - lr: 1.0000e-06\n",
      "Epoch 49/50\n",
      "375/375 [==============================] - 0s 1ms/step - loss: 1.7875 - accuracy: 0.1881 - lr: 1.0000e-06\n",
      "Epoch 50/50\n",
      "375/375 [==============================] - 0s 981us/step - loss: 1.7875 - accuracy: 0.1880 - lr: 1.0000e-06\n"
     ]
    },
    {
     "data": {
      "text/plain": [
       "<keras.callbacks.History at 0x207b0fc4450>"
      ]
     },
     "execution_count": 225,
     "metadata": {},
     "output_type": "execute_result"
    }
   ],
   "source": [
    "model.fit(train_data,epochs=50,callbacks=[checkpoint,earlystop,reduce_lr])"
   ]
  },
  {
   "cell_type": "code",
   "execution_count": 226,
   "metadata": {},
   "outputs": [
    {
     "name": "stdout",
     "output_type": "stream",
     "text": [
      "94/94 [==============================] - 0s 744us/step\n"
     ]
    }
   ],
   "source": [
    "# test the model\n",
    "y_pred=model.predict(test_data)"
   ]
  },
  {
   "cell_type": "code",
   "execution_count": 227,
   "metadata": {},
   "outputs": [],
   "source": [
    "y_pred=np.array(y_pred)"
   ]
  },
  {
   "cell_type": "code",
   "execution_count": 228,
   "metadata": {},
   "outputs": [],
   "source": [
    "y_pred=np.argmax(y_pred,axis=1)"
   ]
  },
  {
   "cell_type": "code",
   "execution_count": 229,
   "metadata": {},
   "outputs": [
    {
     "data": {
      "text/plain": [
       "<matplotlib.collections.PathCollection at 0x207b0e97590>"
      ]
     },
     "execution_count": 229,
     "metadata": {},
     "output_type": "execute_result"
    },
    {
     "data": {
      "image/png": "[encoded data removed]",
      "text/plain": [
       "<Figure size 640x480 with 1 Axes>"
      ]
     },
     "metadata": {},
     "output_type": "display_data"
    }
   ],
   "source": [
    "plt.scatter(range(len(y_pred)),y_pred,color='red')"
   ]
  },
  {
   "cell_type": "code",
   "execution_count": 230,
   "metadata": {},
   "outputs": [
    {
     "data": {
      "text/plain": [
       "<matplotlib.collections.PathCollection at 0x207b1036350>"
      ]
     },
     "execution_count": 230,
     "metadata": {},
     "output_type": "execute_result"
    },
    {
     "data": {
      "image/png": "[encoded data removed]",
      "text/plain": [
       "<Figure size 640x480 with 1 Axes>"
      ]
     },
     "metadata": {},
     "output_type": "display_data"
    }
   ],
   "source": [
    "plt.scatter(range(len(np.array(y[train_size:]))),np.array(y[train_size:]),color='blue')"
   ]
  },
  {
   "cell_type": "code",
   "execution_count": 231,
   "metadata": {},
   "outputs": [
    {
     "data": {
      "text/plain": [
       "<Axes: >"
      ]
     },
     "execution_count": 231,
     "metadata": {},
     "output_type": "execute_result"
    },
    {
     "data": {
      "image/png": "[encoded data removed]",
      "text/plain": [
       "<Figure size 640x480 with 2 Axes>"
      ]
     },
     "metadata": {},
     "output_type": "display_data"
    }
   ],
   "source": [
    "# confusion matrix in heat map\n",
    "\n",
    "from sklearn.metrics import confusion_matrix\n",
    "cm=confusion_matrix(np.array(y[train_size:]),y_pred)\n",
    "\n",
    "import seaborn as sns\n",
    "sns.heatmap(cm,annot=True)"
   ]
  },
  {
   "cell_type": "code",
   "execution_count": null,
   "metadata": {},
   "outputs": [],
   "source": []
  }
 ],
 "metadata": {
  "kernelspec": {
   "display_name": "Python 3",
   "language": "python",
   "name": "python3"
  },
  "language_info": {
   "codemirror_mode": {
    "name": "ipython",
    "version": 3
   },
   "file_extension": ".py",
   "mimetype": "text/x-python",
   "name": "python",
   "nbconvert_exporter": "python",
   "pygments_lexer": "ipython3",
   "version": "3.11.3"
  }
 },
 "nbformat": 4,
 "nbformat_minor": 2
}
